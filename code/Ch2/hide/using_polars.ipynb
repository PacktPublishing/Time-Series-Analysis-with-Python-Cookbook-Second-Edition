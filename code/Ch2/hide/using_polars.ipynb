{
 "cells": [
  {
   "cell_type": "code",
   "execution_count": 1,
   "id": "8284fca6-6742-42f4-8833-311adc48554a",
   "metadata": {},
   "outputs": [],
   "source": [
    "import polars as pl\n",
    "import pandas as pd\n",
    "from pathlib import Path"
   ]
  },
  {
   "cell_type": "code",
   "execution_count": 2,
   "id": "b5061ee9-5c4e-49ac-ae57-cca7335ddeae",
   "metadata": {},
   "outputs": [
    {
     "name": "stdout",
     "output_type": "stream",
     "text": [
      "Polars: 0.19.13\n",
      "Pandas: 2.1.3\n"
     ]
    }
   ],
   "source": [
    "print(f\"Polars: {pl.__version__}\")\n",
    "print(f\"Pandas: {pd.__version__}\")"
   ]
  },
  {
   "cell_type": "code",
   "execution_count": 8,
   "id": "08dcc4e3-dc11-4814-adf2-b9841d7013cf",
   "metadata": {},
   "outputs": [],
   "source": [
    "filepath = Path('../../datasets/Ch2/movieboxoffice.csv')"
   ]
  },
  {
   "cell_type": "code",
   "execution_count": 9,
   "id": "842eb170-47f6-406b-8a83-2677c864097d",
   "metadata": {},
   "outputs": [],
   "source": [
    "ts_polars = pl.read_csv(filepath, \n",
    "                 has_header=True, \n",
    "                 columns= ['Date',\n",
    "                          'DOW',\n",
    "                          'Daily',\n",
    "                          'Forecast',\n",
    "                          'Percent Diff'])"
   ]
  },
  {
   "cell_type": "code",
   "execution_count": 11,
   "id": "ff6254cc-99d3-4e8b-86a8-c357a6897ba6",
   "metadata": {},
   "outputs": [
    {
     "data": {
      "text/html": [
       "<div><style>\n",
       ".dataframe > thead > tr > th,\n",
       ".dataframe > tbody > tr > td {\n",
       "  text-align: right;\n",
       "}\n",
       "</style>\n",
       "<small>shape: (5, 5)</small><table border=\"1\" class=\"dataframe\"><thead><tr><th>Date</th><th>DOW</th><th>Daily</th><th>Forecast</th><th>Percent Diff</th></tr><tr><td>str</td><td>str</td><td>str</td><td>str</td><td>str</td></tr></thead><tbody><tr><td>&quot;26-Apr-21&quot;</td><td>&quot;Friday&quot;</td><td>&quot;$125,789.89 &quot;</td><td>&quot;$235,036.46 &quot;</td><td>&quot;-46.48%&quot;</td></tr><tr><td>&quot;27-Apr-21&quot;</td><td>&quot;Saturday&quot;</td><td>&quot;$99,374.01 &quot;</td><td>&quot;$197,622.55 &quot;</td><td>&quot;-49.72%&quot;</td></tr><tr><td>&quot;28-Apr-21&quot;</td><td>&quot;Sunday&quot;</td><td>&quot;$82,203.16 &quot;</td><td>&quot;$116,991.26 &quot;</td><td>&quot;-29.74%&quot;</td></tr><tr><td>&quot;29-Apr-21&quot;</td><td>&quot;Monday&quot;</td><td>&quot;$33,530.26 &quot;</td><td>&quot;$66,652.65 &quot;</td><td>&quot;-49.69%&quot;</td></tr><tr><td>&quot;30-Apr-21&quot;</td><td>&quot;Tuesday&quot;</td><td>&quot;$30,105.24 &quot;</td><td>&quot;$34,828.19 &quot;</td><td>&quot;-13.56%&quot;</td></tr></tbody></table></div>"
      ],
      "text/plain": [
       "shape: (5, 5)\n",
       "┌───────────┬──────────┬──────────────┬──────────────┬──────────────┐\n",
       "│ Date      ┆ DOW      ┆ Daily        ┆ Forecast     ┆ Percent Diff │\n",
       "│ ---       ┆ ---      ┆ ---          ┆ ---          ┆ ---          │\n",
       "│ str       ┆ str      ┆ str          ┆ str          ┆ str          │\n",
       "╞═══════════╪══════════╪══════════════╪══════════════╪══════════════╡\n",
       "│ 26-Apr-21 ┆ Friday   ┆ $125,789.89  ┆ $235,036.46  ┆ -46.48%      │\n",
       "│ 27-Apr-21 ┆ Saturday ┆ $99,374.01   ┆ $197,622.55  ┆ -49.72%      │\n",
       "│ 28-Apr-21 ┆ Sunday   ┆ $82,203.16   ┆ $116,991.26  ┆ -29.74%      │\n",
       "│ 29-Apr-21 ┆ Monday   ┆ $33,530.26   ┆ $66,652.65   ┆ -49.69%      │\n",
       "│ 30-Apr-21 ┆ Tuesday  ┆ $30,105.24   ┆ $34,828.19   ┆ -13.56%      │\n",
       "└───────────┴──────────┴──────────────┴──────────────┴──────────────┘"
      ]
     },
     "execution_count": 11,
     "metadata": {},
     "output_type": "execute_result"
    }
   ],
   "source": [
    "ts_polars.head()"
   ]
  },
  {
   "cell_type": "code",
   "execution_count": 12,
   "id": "fd7bf86b-033d-4340-a85b-69a435ece7bd",
   "metadata": {},
   "outputs": [
    {
     "name": "stderr",
     "output_type": "stream",
     "text": [
      "/var/folders/48/j6k669vx63qd_68k2_502cl40000gn/T/ipykernel_17803/2199817365.py:1: UserWarning: Could not infer format, so each element will be parsed individually, falling back to `dateutil`. To ensure parsing is consistent and as-expected, please specify a format.\n",
      "  ts_pandas = pd.read_csv(filepath,\n"
     ]
    },
    {
     "data": {
      "text/html": [
       "<div>\n",
       "<style scoped>\n",
       "    .dataframe tbody tr th:only-of-type {\n",
       "        vertical-align: middle;\n",
       "    }\n",
       "\n",
       "    .dataframe tbody tr th {\n",
       "        vertical-align: top;\n",
       "    }\n",
       "\n",
       "    .dataframe thead th {\n",
       "        text-align: right;\n",
       "    }\n",
       "</style>\n",
       "<table border=\"1\" class=\"dataframe\">\n",
       "  <thead>\n",
       "    <tr style=\"text-align: right;\">\n",
       "      <th></th>\n",
       "      <th>DOW</th>\n",
       "      <th>Daily</th>\n",
       "      <th>Forecast</th>\n",
       "      <th>Percent Diff</th>\n",
       "    </tr>\n",
       "    <tr>\n",
       "      <th>Date</th>\n",
       "      <th></th>\n",
       "      <th></th>\n",
       "      <th></th>\n",
       "      <th></th>\n",
       "    </tr>\n",
       "  </thead>\n",
       "  <tbody>\n",
       "    <tr>\n",
       "      <th>2021-04-26</th>\n",
       "      <td>Friday</td>\n",
       "      <td>$125,789.89</td>\n",
       "      <td>$235,036.46</td>\n",
       "      <td>-46.48%</td>\n",
       "    </tr>\n",
       "    <tr>\n",
       "      <th>2021-04-27</th>\n",
       "      <td>Saturday</td>\n",
       "      <td>$99,374.01</td>\n",
       "      <td>$197,622.55</td>\n",
       "      <td>-49.72%</td>\n",
       "    </tr>\n",
       "    <tr>\n",
       "      <th>2021-04-28</th>\n",
       "      <td>Sunday</td>\n",
       "      <td>$82,203.16</td>\n",
       "      <td>$116,991.26</td>\n",
       "      <td>-29.74%</td>\n",
       "    </tr>\n",
       "    <tr>\n",
       "      <th>2021-04-29</th>\n",
       "      <td>Monday</td>\n",
       "      <td>$33,530.26</td>\n",
       "      <td>$66,652.65</td>\n",
       "      <td>-49.69%</td>\n",
       "    </tr>\n",
       "    <tr>\n",
       "      <th>2021-04-30</th>\n",
       "      <td>Tuesday</td>\n",
       "      <td>$30,105.24</td>\n",
       "      <td>$34,828.19</td>\n",
       "      <td>-13.56%</td>\n",
       "    </tr>\n",
       "  </tbody>\n",
       "</table>\n",
       "</div>"
      ],
      "text/plain": [
       "                 DOW         Daily      Forecast Percent Diff\n",
       "Date                                                         \n",
       "2021-04-26    Friday  $125,789.89   $235,036.46       -46.48%\n",
       "2021-04-27  Saturday   $99,374.01   $197,622.55       -49.72%\n",
       "2021-04-28    Sunday   $82,203.16   $116,991.26       -29.74%\n",
       "2021-04-29    Monday   $33,530.26    $66,652.65       -49.69%\n",
       "2021-04-30   Tuesday   $30,105.24    $34,828.19       -13.56%"
      ]
     },
     "execution_count": 12,
     "metadata": {},
     "output_type": "execute_result"
    }
   ],
   "source": [
    "ts_pandas = pd.read_csv(filepath,\n",
    "                 header=0,\n",
    "             \n",
    "                 parse_dates=[0],\n",
    "                 index_col=0,\n",
    "                 usecols=['Date',\n",
    "                          'DOW',\n",
    "                          'Daily',\n",
    "                          'Forecast',\n",
    "                          'Percent Diff'])\n",
    "ts_pandas.head()"
   ]
  },
  {
   "cell_type": "code",
   "execution_count": 13,
   "id": "ee211a6e-ec97-4d3a-a8d2-9df342a02492",
   "metadata": {},
   "outputs": [
    {
     "data": {
      "text/plain": [
       "{'Date': Utf8,\n",
       " 'DOW': Utf8,\n",
       " 'Daily': Utf8,\n",
       " 'Forecast': Utf8,\n",
       " 'Percent Diff': Utf8}"
      ]
     },
     "execution_count": 13,
     "metadata": {},
     "output_type": "execute_result"
    }
   ],
   "source": [
    "ts_polars.schema"
   ]
  },
  {
   "cell_type": "code",
   "execution_count": 17,
   "id": "2d68510b-9923-4c67-a1e4-0fd698c2f375",
   "metadata": {},
   "outputs": [
    {
     "name": "stdout",
     "output_type": "stream",
     "text": [
      "<class 'pandas.core.frame.DataFrame'>\n",
      "DatetimeIndex: 128 entries, 2021-04-26 to 2021-08-31\n",
      "Data columns (total 4 columns):\n",
      " #   Column        Non-Null Count  Dtype \n",
      "---  ------        --------------  ----- \n",
      " 0   DOW           128 non-null    object\n",
      " 1   Daily         128 non-null    object\n",
      " 2   Forecast      128 non-null    object\n",
      " 3   Percent Diff  128 non-null    object\n",
      "dtypes: object(4)\n",
      "memory usage: 5.0+ KB\n"
     ]
    }
   ],
   "source": [
    "ts_pandas.info()"
   ]
  },
  {
   "cell_type": "code",
   "execution_count": null,
   "id": "be6d17fb-e66c-45c9-869d-4a0020ecea51",
   "metadata": {},
   "outputs": [],
   "source": []
  }
 ],
 "metadata": {
  "kernelspec": {
   "display_name": "Python [conda env:polars]",
   "language": "python",
   "name": "conda-env-polars-py"
  },
  "language_info": {
   "codemirror_mode": {
    "name": "ipython",
    "version": 3
   },
   "file_extension": ".py",
   "mimetype": "text/x-python",
   "name": "python",
   "nbconvert_exporter": "python",
   "pygments_lexer": "ipython3",
   "version": "3.11.4"
  }
 },
 "nbformat": 4,
 "nbformat_minor": 5
}
