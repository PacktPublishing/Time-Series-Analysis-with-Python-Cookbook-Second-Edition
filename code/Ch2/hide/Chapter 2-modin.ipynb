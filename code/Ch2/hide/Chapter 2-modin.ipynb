{
 "cells": [
  {
   "cell_type": "markdown",
   "id": "afc57ef8-006f-4538-b293-0d8ba1aea4e2",
   "metadata": {},
   "source": [
    "# Chapter 2 \n",
    "\n",
    "Before installing any library, it is highly advised that you create a separate virtual environment, for example, using conda. The concept and purpose behind creating virtual\n",
    "environments were discussed in detail in **Chapter 1**, *Getting Started with Time Series Analysis*, with multiple examples.\n",
    "\n",
    "* To install Modin using `Conda` (with a Dask backend), run the following:\n",
    "\n",
    "```\n",
    "conda install -c conda-forge modin-dask\n",
    "```\n",
    "* To install with `pip`, use the following:\n",
    "\n",
    "```\n",
    "pip install modin[dask]\n",
    "```\n",
    "\n",
    "You will measure the time and memory usage using pandas and again using Modin. To measure memory usage, you will need to install the `memory_profiler` library.\n",
    "\n",
    "```\n",
    "pip install memory_profiler\n",
    "```\n",
    "\n",
    "The memory_profiler library provides IPython and Jupyter magics such as `%memit` and `%mprun`, similar to known magics such as `%timeit` and `%time`.\n",
    "\n",
    "## Using Modin\n",
    "* Continue from recipe \"Reading data from a SAS dataset\"\n",
    "* The recipe introduces concepts for working with large data sets \n",
    "\n",
    "> \" the **Modin** library acts as a wrapper or, more specifically, an abstraction on top of Dask or Ray that\n",
    "uses a similar API to pandas. Modin makes optimizing your pandas' code much more\n",
    "straightforward without learning another framework, and all it takes is a single line\n",
    "of code.\" - Chapter 2 Page 62"
   ]
  },
  {
   "cell_type": "markdown",
   "id": "d9cb4824-6b0e-4aab-8495-690d811e09b2",
   "metadata": {
    "tags": []
   },
   "source": [
    "## Comparing Performance: Memory & Time"
   ]
  },
  {
   "cell_type": "code",
   "execution_count": 1,
   "id": "264861fc-a9c6-41b5-abe8-9593f461dcb5",
   "metadata": {},
   "outputs": [],
   "source": [
    "#!conda install -c anaconda memory_profiler -y\n",
    "#!pip install memory-profiler"
   ]
  },
  {
   "cell_type": "code",
   "execution_count": 1,
   "id": "e45b9d04-549b-49ff-9731-ec6dc5de5617",
   "metadata": {},
   "outputs": [],
   "source": [
    "#import memory_profiler \n",
    "%load_ext memory_profiler"
   ]
  },
  {
   "cell_type": "code",
   "execution_count": 2,
   "id": "dada6452-067f-4bb4-83c3-ca5182cf14f4",
   "metadata": {},
   "outputs": [
    {
     "data": {
      "text/plain": [
       "'2.2.0'"
      ]
     },
     "execution_count": 2,
     "metadata": {},
     "output_type": "execute_result"
    }
   ],
   "source": [
    "import pandas as pd\n",
    "pd.__version__"
   ]
  },
  {
   "cell_type": "code",
   "execution_count": 3,
   "id": "40d27dd8-2316-431a-afa5-0115c60f549a",
   "metadata": {},
   "outputs": [
    {
     "data": {
      "text/plain": [
       "'0.27.0'"
      ]
     },
     "execution_count": 3,
     "metadata": {},
     "output_type": "execute_result"
    }
   ],
   "source": [
    "import modin\n",
    "modin.__version__"
   ]
  },
  {
   "cell_type": "code",
   "execution_count": 7,
   "id": "33d220ac-f45e-4446-bc3a-870e5b90b8fe",
   "metadata": {},
   "outputs": [],
   "source": [
    "from pathlib import Path\n",
    "from modin.config import Engine\n",
    "Engine.put(\"dask\")  # Modin will use Dask\n",
    "import modin.pandas as pd\n",
    "# from distributed import Client\n",
    "# client = Client()"
   ]
  },
  {
   "cell_type": "code",
   "execution_count": 8,
   "id": "3809355f-ce33-475c-89bb-e8c9c399735e",
   "metadata": {},
   "outputs": [],
   "source": [
    "file_path = Path('../../datasets/Ch2/yellow_tripdata_2023.csv')"
   ]
  },
  {
   "cell_type": "code",
   "execution_count": 13,
   "id": "d72f164f-3b2a-4cdf-b243-5254007e31a9",
   "metadata": {},
   "outputs": [
    {
     "name": "stdout",
     "output_type": "stream",
     "text": [
      "peak memory: 346.61 MiB, increment: 165.66 MiB\n",
      "CPU times: user 1.24 s, sys: 326 ms, total: 1.56 s\n",
      "Wall time: 8.2 s\n"
     ]
    }
   ],
   "source": [
    "%%time\n",
    "%%memit \n",
    "df_pd = pd.read_csv(file_path)"
   ]
  },
  {
   "cell_type": "code",
   "execution_count": 14,
   "id": "b6db7040-04fb-4761-9da0-9a035ca78676",
   "metadata": {},
   "outputs": [
    {
     "name": "stdout",
     "output_type": "stream",
     "text": [
      "<class 'modin.pandas.dataframe.DataFrame'>\n",
      "RangeIndex: 16186386 entries, 0 to 16186385\n",
      "Data columns (total 20 columns):\n",
      " #   Column                 Dtype  \n",
      "---  ------                 -----  \n",
      " 0   VendorID               int64  \n",
      " 1   tpep_pickup_datetime   object \n",
      " 2   tpep_dropoff_datetime  object \n",
      " 3   passenger_count        float64\n",
      " 4   trip_distance          float64\n",
      " 5   RatecodeID             float64\n",
      " 6   store_and_fwd_flag     object \n",
      " 7   PULocationID           int64  \n",
      " 8   DOLocationID           int64  \n",
      " 9   payment_type           int64  \n",
      " 10  fare_amount            float64\n",
      " 11  extra                  float64\n",
      " 12  mta_tax                float64\n",
      " 13  tip_amount             float64\n",
      " 14  tolls_amount           float64\n",
      " 15  improvement_surcharge  float64\n",
      " 16  total_amount           float64\n",
      " 17  congestion_surcharge   float64\n",
      " 18  Airport_fee            float64\n",
      " 19  airport_fee            float64\n",
      "dtypes: float64(13), int64(4), object(3)\n",
      "memory usage: 2.4+ GB\n"
     ]
    }
   ],
   "source": [
    "df_pd.info()"
   ]
  },
  {
   "cell_type": "code",
   "execution_count": 15,
   "id": "4966fa13-6621-4ffd-adf6-aac0a8713ba6",
   "metadata": {},
   "outputs": [
    {
     "data": {
      "text/plain": [
       "(16186386, 20)"
      ]
     },
     "execution_count": 15,
     "metadata": {},
     "output_type": "execute_result"
    }
   ],
   "source": [
    "df_pd.shape"
   ]
  },
  {
   "cell_type": "code",
   "execution_count": 16,
   "id": "e69ca952-b89d-4836-a641-f26a99831d5e",
   "metadata": {},
   "outputs": [
    {
     "data": {
      "text/html": [
       "<div>\n",
       "<style scoped>\n",
       "    .dataframe tbody tr th:only-of-type {\n",
       "        vertical-align: middle;\n",
       "    }\n",
       "\n",
       "    .dataframe tbody tr th {\n",
       "        vertical-align: top;\n",
       "    }\n",
       "\n",
       "    .dataframe thead th {\n",
       "        text-align: right;\n",
       "    }\n",
       "</style>\n",
       "<table border=\"1\" class=\"dataframe\">\n",
       "  <thead>\n",
       "    <tr style=\"text-align: right;\">\n",
       "      <th></th>\n",
       "      <th>VendorID</th>\n",
       "      <th>tpep_pickup_datetime</th>\n",
       "      <th>tpep_dropoff_datetime</th>\n",
       "      <th>passenger_count</th>\n",
       "      <th>trip_distance</th>\n",
       "      <th>RatecodeID</th>\n",
       "      <th>store_and_fwd_flag</th>\n",
       "      <th>PULocationID</th>\n",
       "      <th>DOLocationID</th>\n",
       "      <th>payment_type</th>\n",
       "      <th>fare_amount</th>\n",
       "      <th>extra</th>\n",
       "      <th>mta_tax</th>\n",
       "      <th>tip_amount</th>\n",
       "      <th>tolls_amount</th>\n",
       "      <th>improvement_surcharge</th>\n",
       "      <th>total_amount</th>\n",
       "      <th>congestion_surcharge</th>\n",
       "      <th>Airport_fee</th>\n",
       "      <th>airport_fee</th>\n",
       "    </tr>\n",
       "  </thead>\n",
       "  <tbody>\n",
       "    <tr>\n",
       "      <th>0</th>\n",
       "      <td>1</td>\n",
       "      <td>2023-05-01 00:33:13</td>\n",
       "      <td>2023-05-01 00:53:01</td>\n",
       "      <td>0.0</td>\n",
       "      <td>7.80</td>\n",
       "      <td>1.0</td>\n",
       "      <td>N</td>\n",
       "      <td>138</td>\n",
       "      <td>43</td>\n",
       "      <td>1</td>\n",
       "      <td>33.8</td>\n",
       "      <td>7.75</td>\n",
       "      <td>0.5</td>\n",
       "      <td>8.60</td>\n",
       "      <td>0.00</td>\n",
       "      <td>1.0</td>\n",
       "      <td>51.65</td>\n",
       "      <td>0.0</td>\n",
       "      <td>1.75</td>\n",
       "      <td>NaN</td>\n",
       "    </tr>\n",
       "    <tr>\n",
       "      <th>1</th>\n",
       "      <td>1</td>\n",
       "      <td>2023-05-01 00:42:49</td>\n",
       "      <td>2023-05-01 01:11:18</td>\n",
       "      <td>2.0</td>\n",
       "      <td>8.10</td>\n",
       "      <td>1.0</td>\n",
       "      <td>N</td>\n",
       "      <td>138</td>\n",
       "      <td>262</td>\n",
       "      <td>1</td>\n",
       "      <td>35.9</td>\n",
       "      <td>10.25</td>\n",
       "      <td>0.5</td>\n",
       "      <td>9.50</td>\n",
       "      <td>0.00</td>\n",
       "      <td>1.0</td>\n",
       "      <td>57.15</td>\n",
       "      <td>2.5</td>\n",
       "      <td>1.75</td>\n",
       "      <td>NaN</td>\n",
       "    </tr>\n",
       "    <tr>\n",
       "      <th>2</th>\n",
       "      <td>1</td>\n",
       "      <td>2023-05-01 00:56:34</td>\n",
       "      <td>2023-05-01 01:13:39</td>\n",
       "      <td>2.0</td>\n",
       "      <td>9.10</td>\n",
       "      <td>1.0</td>\n",
       "      <td>N</td>\n",
       "      <td>138</td>\n",
       "      <td>141</td>\n",
       "      <td>1</td>\n",
       "      <td>35.2</td>\n",
       "      <td>10.25</td>\n",
       "      <td>0.5</td>\n",
       "      <td>10.70</td>\n",
       "      <td>6.55</td>\n",
       "      <td>1.0</td>\n",
       "      <td>64.20</td>\n",
       "      <td>2.5</td>\n",
       "      <td>1.75</td>\n",
       "      <td>NaN</td>\n",
       "    </tr>\n",
       "    <tr>\n",
       "      <th>3</th>\n",
       "      <td>2</td>\n",
       "      <td>2023-05-01 00:00:52</td>\n",
       "      <td>2023-05-01 00:20:12</td>\n",
       "      <td>1.0</td>\n",
       "      <td>8.21</td>\n",
       "      <td>1.0</td>\n",
       "      <td>N</td>\n",
       "      <td>138</td>\n",
       "      <td>140</td>\n",
       "      <td>1</td>\n",
       "      <td>33.1</td>\n",
       "      <td>6.00</td>\n",
       "      <td>0.5</td>\n",
       "      <td>2.24</td>\n",
       "      <td>0.00</td>\n",
       "      <td>1.0</td>\n",
       "      <td>47.09</td>\n",
       "      <td>2.5</td>\n",
       "      <td>1.75</td>\n",
       "      <td>NaN</td>\n",
       "    </tr>\n",
       "    <tr>\n",
       "      <th>4</th>\n",
       "      <td>1</td>\n",
       "      <td>2023-05-01 00:05:50</td>\n",
       "      <td>2023-05-01 00:19:41</td>\n",
       "      <td>0.0</td>\n",
       "      <td>7.90</td>\n",
       "      <td>1.0</td>\n",
       "      <td>N</td>\n",
       "      <td>138</td>\n",
       "      <td>263</td>\n",
       "      <td>1</td>\n",
       "      <td>31.0</td>\n",
       "      <td>10.25</td>\n",
       "      <td>0.5</td>\n",
       "      <td>9.85</td>\n",
       "      <td>6.55</td>\n",
       "      <td>1.0</td>\n",
       "      <td>59.15</td>\n",
       "      <td>2.5</td>\n",
       "      <td>1.75</td>\n",
       "      <td>NaN</td>\n",
       "    </tr>\n",
       "  </tbody>\n",
       "</table>\n",
       "</div>"
      ],
      "text/plain": [
       "   VendorID tpep_pickup_datetime tpep_dropoff_datetime  passenger_count  \\\n",
       "0         1  2023-05-01 00:33:13   2023-05-01 00:53:01              0.0   \n",
       "1         1  2023-05-01 00:42:49   2023-05-01 01:11:18              2.0   \n",
       "2         1  2023-05-01 00:56:34   2023-05-01 01:13:39              2.0   \n",
       "3         2  2023-05-01 00:00:52   2023-05-01 00:20:12              1.0   \n",
       "4         1  2023-05-01 00:05:50   2023-05-01 00:19:41              0.0   \n",
       "\n",
       "   trip_distance  RatecodeID store_and_fwd_flag  PULocationID  DOLocationID  \\\n",
       "0           7.80         1.0                  N           138            43   \n",
       "1           8.10         1.0                  N           138           262   \n",
       "2           9.10         1.0                  N           138           141   \n",
       "3           8.21         1.0                  N           138           140   \n",
       "4           7.90         1.0                  N           138           263   \n",
       "\n",
       "   payment_type  fare_amount  extra  mta_tax  tip_amount  tolls_amount  \\\n",
       "0             1         33.8   7.75      0.5        8.60          0.00   \n",
       "1             1         35.9  10.25      0.5        9.50          0.00   \n",
       "2             1         35.2  10.25      0.5       10.70          6.55   \n",
       "3             1         33.1   6.00      0.5        2.24          0.00   \n",
       "4             1         31.0  10.25      0.5        9.85          6.55   \n",
       "\n",
       "   improvement_surcharge  total_amount  congestion_surcharge  Airport_fee  \\\n",
       "0                    1.0         51.65                   0.0         1.75   \n",
       "1                    1.0         57.15                   2.5         1.75   \n",
       "2                    1.0         64.20                   2.5         1.75   \n",
       "3                    1.0         47.09                   2.5         1.75   \n",
       "4                    1.0         59.15                   2.5         1.75   \n",
       "\n",
       "   airport_fee  \n",
       "0          NaN  \n",
       "1          NaN  \n",
       "2          NaN  \n",
       "3          NaN  \n",
       "4          NaN  "
      ]
     },
     "execution_count": 16,
     "metadata": {},
     "output_type": "execute_result"
    }
   ],
   "source": [
    "df_pd.head()"
   ]
  },
  {
   "cell_type": "code",
   "execution_count": null,
   "id": "6e3718a3-14fa-475c-8768-95fafa084cc4",
   "metadata": {},
   "outputs": [],
   "source": [
    "df.read_csv()"
   ]
  }
 ],
 "metadata": {
  "kernelspec": {
   "display_name": "Python [conda env:modin]",
   "language": "python",
   "name": "conda-env-modin-py"
  },
  "language_info": {
   "codemirror_mode": {
    "name": "ipython",
    "version": 3
   },
   "file_extension": ".py",
   "mimetype": "text/x-python",
   "name": "python",
   "nbconvert_exporter": "python",
   "pygments_lexer": "ipython3",
   "version": "3.10.13"
  }
 },
 "nbformat": 4,
 "nbformat_minor": 5
}
