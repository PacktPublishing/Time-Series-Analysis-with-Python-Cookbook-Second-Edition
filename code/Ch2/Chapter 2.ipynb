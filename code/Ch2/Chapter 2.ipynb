{
 "cells": [
  {
   "cell_type": "markdown",
   "id": "cc1f3dac-5f42-4c0d-ae98-80dafb21bc25",
   "metadata": {},
   "source": [
    "# Recipe 1: Reading from CSVs and Other Delimited Files"
   ]
  },
  {
   "cell_type": "code",
   "execution_count": 1,
   "id": "0ecc3461-43e2-4c09-945c-033f8eff4342",
   "metadata": {},
   "outputs": [
    {
     "data": {
      "text/plain": [
       "'2.2.3'"
      ]
     },
     "execution_count": 1,
     "metadata": {},
     "output_type": "execute_result"
    }
   ],
   "source": [
    "import pandas as pd\n",
    "from pathlib import Path\n",
    "pd.__version__"
   ]
  },
  {
   "cell_type": "code",
   "execution_count": 3,
   "id": "ffcaab98-7d62-4f82-97ed-85f8c1d8b820",
   "metadata": {},
   "outputs": [],
   "source": [
    "filepath = Path('../../datasets/Ch2/movieboxoffice.csv')"
   ]
  },
  {
   "cell_type": "code",
   "execution_count": 5,
   "id": "aa33d6f8-d21d-4c67-9231-97593196306d",
   "metadata": {},
   "outputs": [
    {
     "name": "stdout",
     "output_type": "stream",
     "text": [
      "                 DOW         Daily      Forecast Percent Diff\n",
      "Date                                                         \n",
      "2021-04-26    Friday  $125,789.89   $235,036.46       -46.48%\n",
      "2021-04-27  Saturday   $99,374.01   $197,622.55       -49.72%\n",
      "2021-04-28    Sunday   $82,203.16   $116,991.26       -29.74%\n",
      "2021-04-29    Monday   $33,530.26    $66,652.65       -49.69%\n",
      "2021-04-30   Tuesday   $30,105.24    $34,828.19       -13.56%\n"
     ]
    }
   ],
   "source": [
    "# read movieboxoffice.csv data and parse the Date column (first column) as date\n",
    "ts = pd.read_csv(filepath,\n",
    "                 header=0,\n",
    "                 parse_dates=[0],\n",
    "                 index_col=0,\n",
    "                 usecols=['Date',\n",
    "                          'DOW',\n",
    "                          'Daily',\n",
    "                          'Forecast',\n",
    "                          'Percent Diff'])\n",
    "print(ts.head())"
   ]
  },
  {
   "cell_type": "code",
   "execution_count": 7,
   "id": "14b0182e-98be-4c79-8db9-2ed76a182813",
   "metadata": {},
   "outputs": [
    {
     "name": "stdout",
     "output_type": "stream",
     "text": [
      "<class 'pandas.core.frame.DataFrame'>\n",
      "DatetimeIndex: 128 entries, 2021-04-26 to 2021-08-31\n",
      "Data columns (total 4 columns):\n",
      " #   Column        Non-Null Count  Dtype \n",
      "---  ------        --------------  ----- \n",
      " 0   DOW           128 non-null    object\n",
      " 1   Daily         128 non-null    object\n",
      " 2   Forecast      128 non-null    object\n",
      " 3   Percent Diff  128 non-null    object\n",
      "dtypes: object(4)\n",
      "memory usage: 5.0+ KB\n"
     ]
    }
   ],
   "source": [
    "ts.info()"
   ]
  },
  {
   "cell_type": "markdown",
   "id": "07775018-5134-4ec4-ac7b-68b5634eb9ad",
   "metadata": {},
   "source": [
    "**Data Cleanup**"
   ]
  },
  {
   "cell_type": "code",
   "execution_count": 10,
   "id": "2a6ef6a8-65c9-472d-9c71-1bbc74402ea0",
   "metadata": {},
   "outputs": [
    {
     "data": {
      "text/plain": [
       "DOW             object\n",
       "Daily           object\n",
       "Forecast        object\n",
       "Percent Diff    object\n",
       "dtype: object"
      ]
     },
     "execution_count": 10,
     "metadata": {},
     "output_type": "execute_result"
    }
   ],
   "source": [
    "ts.dtypes"
   ]
  },
  {
   "cell_type": "code",
   "execution_count": 12,
   "id": "df34d125-5ad8-41c2-a6c4-09145605891b",
   "metadata": {},
   "outputs": [],
   "source": [
    "clean = lambda x: x.str.replace('[^\\\\d.-]', '', regex=True)                                                      \n",
    "c_df = ts[['Daily', 'Forecast', 'Percent Diff']].apply(clean, axis=1)\n",
    "ts[['Daily', 'Forecast', 'Percent Diff']] = c_df.astype(float)         "
   ]
  },
  {
   "cell_type": "code",
   "execution_count": 14,
   "id": "ae90d0a0-02e4-4a48-8bed-2fea8d612252",
   "metadata": {},
   "outputs": [
    {
     "data": {
      "text/html": [
       "<div>\n",
       "<style scoped>\n",
       "    .dataframe tbody tr th:only-of-type {\n",
       "        vertical-align: middle;\n",
       "    }\n",
       "\n",
       "    .dataframe tbody tr th {\n",
       "        vertical-align: top;\n",
       "    }\n",
       "\n",
       "    .dataframe thead th {\n",
       "        text-align: right;\n",
       "    }\n",
       "</style>\n",
       "<table border=\"1\" class=\"dataframe\">\n",
       "  <thead>\n",
       "    <tr style=\"text-align: right;\">\n",
       "      <th></th>\n",
       "      <th>DOW</th>\n",
       "      <th>Daily</th>\n",
       "      <th>Forecast</th>\n",
       "      <th>Percent Diff</th>\n",
       "    </tr>\n",
       "    <tr>\n",
       "      <th>Date</th>\n",
       "      <th></th>\n",
       "      <th></th>\n",
       "      <th></th>\n",
       "      <th></th>\n",
       "    </tr>\n",
       "  </thead>\n",
       "  <tbody>\n",
       "    <tr>\n",
       "      <th>2021-04-26</th>\n",
       "      <td>Friday</td>\n",
       "      <td>125789.89</td>\n",
       "      <td>235036.46</td>\n",
       "      <td>-46.48</td>\n",
       "    </tr>\n",
       "    <tr>\n",
       "      <th>2021-04-27</th>\n",
       "      <td>Saturday</td>\n",
       "      <td>99374.01</td>\n",
       "      <td>197622.55</td>\n",
       "      <td>-49.72</td>\n",
       "    </tr>\n",
       "    <tr>\n",
       "      <th>2021-04-28</th>\n",
       "      <td>Sunday</td>\n",
       "      <td>82203.16</td>\n",
       "      <td>116991.26</td>\n",
       "      <td>-29.74</td>\n",
       "    </tr>\n",
       "    <tr>\n",
       "      <th>2021-04-29</th>\n",
       "      <td>Monday</td>\n",
       "      <td>33530.26</td>\n",
       "      <td>66652.65</td>\n",
       "      <td>-49.69</td>\n",
       "    </tr>\n",
       "    <tr>\n",
       "      <th>2021-04-30</th>\n",
       "      <td>Tuesday</td>\n",
       "      <td>30105.24</td>\n",
       "      <td>34828.19</td>\n",
       "      <td>-13.56</td>\n",
       "    </tr>\n",
       "  </tbody>\n",
       "</table>\n",
       "</div>"
      ],
      "text/plain": [
       "                 DOW      Daily   Forecast  Percent Diff\n",
       "Date                                                    \n",
       "2021-04-26    Friday  125789.89  235036.46        -46.48\n",
       "2021-04-27  Saturday   99374.01  197622.55        -49.72\n",
       "2021-04-28    Sunday   82203.16  116991.26        -29.74\n",
       "2021-04-29    Monday   33530.26   66652.65        -49.69\n",
       "2021-04-30   Tuesday   30105.24   34828.19        -13.56"
      ]
     },
     "execution_count": 14,
     "metadata": {},
     "output_type": "execute_result"
    }
   ],
   "source": [
    "ts.head()"
   ]
  },
  {
   "cell_type": "code",
   "execution_count": 16,
   "id": "3fa8c60e-c65e-48af-b6f7-86644492d107",
   "metadata": {},
   "outputs": [
    {
     "name": "stdout",
     "output_type": "stream",
     "text": [
      "<class 'pandas.core.frame.DataFrame'>\n",
      "DatetimeIndex: 128 entries, 2021-04-26 to 2021-08-31\n",
      "Data columns (total 4 columns):\n",
      " #   Column        Non-Null Count  Dtype  \n",
      "---  ------        --------------  -----  \n",
      " 0   DOW           128 non-null    object \n",
      " 1   Daily         128 non-null    float64\n",
      " 2   Forecast      128 non-null    float64\n",
      " 3   Percent Diff  128 non-null    float64\n",
      "dtypes: float64(3), object(1)\n",
      "memory usage: 5.0+ KB\n"
     ]
    }
   ],
   "source": [
    "ts.info()"
   ]
  },
  {
   "cell_type": "code",
   "execution_count": 18,
   "id": "367af7b5-e8e3-4fc6-aa25-48ab82c4eead",
   "metadata": {},
   "outputs": [
    {
     "data": {
      "text/plain": [
       "Index           1024\n",
       "DOW             1024\n",
       "Daily           1024\n",
       "Forecast        1024\n",
       "Percent Diff    1024\n",
       "dtype: int64"
      ]
     },
     "execution_count": 18,
     "metadata": {},
     "output_type": "execute_result"
    }
   ],
   "source": [
    "ts.memory_usage()"
   ]
  },
  {
   "cell_type": "code",
   "execution_count": 20,
   "id": "a8928d19-436c-4d5a-a662-c157ceb14496",
   "metadata": {},
   "outputs": [
    {
     "data": {
      "text/plain": [
       "5120"
      ]
     },
     "execution_count": 20,
     "metadata": {},
     "output_type": "execute_result"
    }
   ],
   "source": [
    "ts.memory_usage().sum()"
   ]
  },
  {
   "cell_type": "code",
   "execution_count": 22,
   "id": "536f9a2a-5b32-433f-ad4d-c41735b43f78",
   "metadata": {},
   "outputs": [
    {
     "data": {
      "text/plain": [
       "Index(['Date', 'DOW', 'Rank', 'Daily', 'Percent Change', 'Diff (k)',\n",
       "       'Forecast', 'Percent Diff', 'Theaters', 'To Date', 'Row ID'],\n",
       "      dtype='object')"
      ]
     },
     "execution_count": 22,
     "metadata": {},
     "output_type": "execute_result"
    }
   ],
   "source": [
    "pd.read_csv(filepath).columns"
   ]
  },
  {
   "cell_type": "code",
   "execution_count": 24,
   "id": "0749999f-2ba9-4e96-9e0a-aa8300af8ed1",
   "metadata": {},
   "outputs": [
    {
     "name": "stdout",
     "output_type": "stream",
     "text": [
      "            Day Name      Daily BO   Forecast BO\n",
      "Date                                            \n",
      "2021-04-26    Friday  $125,789.89   $235,036.46 \n",
      "2021-04-27  Saturday   $99,374.01   $197,622.55 \n",
      "2021-04-28    Sunday   $82,203.16   $116,991.26 \n",
      "2021-04-29    Monday   $33,530.26    $66,652.65 \n",
      "2021-04-30   Tuesday   $30,105.24    $34,828.19 \n"
     ]
    }
   ],
   "source": [
    "col_names = ['Date', 'Day Name', 'Daily BO', 'Forecast BO']\n",
    "df = pd.read_csv(filepath, \n",
    "                 parse_dates=[0],\n",
    "                 index_col=0,\n",
    "                 header=0, \n",
    "                 names=col_names, \n",
    "                 usecols=[0, 1, 3, 6])\n",
    "print(df.head())"
   ]
  },
  {
   "cell_type": "code",
   "execution_count": 26,
   "id": "0cba85b8-98c3-4123-ae0b-bfd27302559c",
   "metadata": {},
   "outputs": [
    {
     "name": "stdout",
     "output_type": "stream",
     "text": [
      "            Day Name      Daily BO   Forecast BO\n",
      "Date                                            \n",
      "2021-04-26    Friday  $125,789.89   $235,036.46 \n",
      "2021-04-27  Saturday   $99,374.01   $197,622.55 \n",
      "2021-04-28    Sunday   $82,203.16   $116,991.26 \n",
      "2021-04-29    Monday   $33,530.26    $66,652.65 \n",
      "2021-04-30   Tuesday   $30,105.24    $34,828.19 \n"
     ]
    }
   ],
   "source": [
    "col_names = {\n",
    "    'Date': 'Date',\n",
    "    'DOW': 'Day Name',\n",
    "    'Daily': 'Daily BO',\n",
    "    'Forecast': 'Forecast BO'\n",
    "}\n",
    "\n",
    "df = pd.read_csv(filepath, \n",
    "                 parse_dates=[0],\n",
    "                 index_col=0,\n",
    "                 usecols=col_names.keys())\n",
    "df.rename(columns=col_names, inplace=True)\n",
    "\n",
    "print(df.head())"
   ]
  },
  {
   "cell_type": "markdown",
   "id": "e6212e1e-caf4-47e9-b8f3-2db31a9ebcd8",
   "metadata": {},
   "source": [
    "## Using `date_parser`"
   ]
  },
  {
   "cell_type": "code",
   "execution_count": 29,
   "id": "5b4759cf-8747-405f-ba15-77cd10493a4c",
   "metadata": {},
   "outputs": [
    {
     "data": {
      "text/plain": [
       "DOW              object\n",
       "Daily           float64\n",
       "Forecast        float64\n",
       "Percent Diff    float64\n",
       "dtype: object"
      ]
     },
     "execution_count": 29,
     "metadata": {},
     "output_type": "execute_result"
    }
   ],
   "source": [
    "ts.dtypes"
   ]
  },
  {
   "cell_type": "markdown",
   "id": "e40a1e0f-1554-4940-8ca8-45f0ae1c7730",
   "metadata": {},
   "source": [
    "using the `date_format` parameter "
   ]
  },
  {
   "cell_type": "code",
   "execution_count": 32,
   "id": "83304c00-6b36-410c-9511-ba072dc830fc",
   "metadata": {},
   "outputs": [
    {
     "name": "stdout",
     "output_type": "stream",
     "text": [
      "                 DOW         Daily      Forecast Percent Diff\n",
      "Date                                                         \n",
      "2021-04-26    Friday  $125,789.89   $235,036.46       -46.48%\n",
      "2021-04-27  Saturday   $99,374.01   $197,622.55       -49.72%\n",
      "2021-04-28    Sunday   $82,203.16   $116,991.26       -29.74%\n",
      "2021-04-29    Monday   $33,530.26    $66,652.65       -49.69%\n",
      "2021-04-30   Tuesday   $30,105.24    $34,828.19       -13.56%\n"
     ]
    }
   ],
   "source": [
    "ts = pd.read_csv(filepath,\n",
    "                 parse_dates=[0],\n",
    "                 index_col=0,\n",
    "                 date_format=\"%d-%b-%Y\",\n",
    "                 usecols=[0,1,3, 7, 6])\n",
    "print(ts.head())"
   ]
  },
  {
   "cell_type": "code",
   "execution_count": 34,
   "id": "bc4ca0c9-d5b5-41f4-a88c-f22dfe30fbbf",
   "metadata": {},
   "outputs": [
    {
     "name": "stdout",
     "output_type": "stream",
     "text": [
      "<class 'pandas.core.frame.DataFrame'>\n",
      "DatetimeIndex: 128 entries, 2021-04-26 to 2021-08-31\n",
      "Data columns (total 4 columns):\n",
      " #   Column        Non-Null Count  Dtype \n",
      "---  ------        --------------  ----- \n",
      " 0   DOW           128 non-null    object\n",
      " 1   Daily         128 non-null    object\n",
      " 2   Forecast      128 non-null    object\n",
      " 3   Percent Diff  128 non-null    object\n",
      "dtypes: object(4)\n",
      "memory usage: 5.0+ KB\n"
     ]
    }
   ],
   "source": [
    "ts.info()"
   ]
  },
  {
   "cell_type": "markdown",
   "id": "1034a0fe-0229-45fa-aab6-8a45cfda4f3e",
   "metadata": {},
   "source": [
    "Using `pd.to_datetime()` function"
   ]
  },
  {
   "cell_type": "code",
   "execution_count": 37,
   "id": "2c9db14f-c912-424e-8fcd-a2011e752a57",
   "metadata": {},
   "outputs": [
    {
     "name": "stdout",
     "output_type": "stream",
     "text": [
      "<class 'pandas.core.frame.DataFrame'>\n",
      "DatetimeIndex: 128 entries, 2021-04-26 to 2021-08-31\n",
      "Data columns (total 4 columns):\n",
      " #   Column        Non-Null Count  Dtype \n",
      "---  ------        --------------  ----- \n",
      " 0   DOW           128 non-null    object\n",
      " 1   Daily         128 non-null    object\n",
      " 2   Forecast      128 non-null    object\n",
      " 3   Percent Diff  128 non-null    object\n",
      "dtypes: object(4)\n",
      "memory usage: 5.0+ KB\n"
     ]
    }
   ],
   "source": [
    "ts = pd.read_csv(filepath,\n",
    "                 index_col=0,\n",
    "                 usecols=[0,1,3, 7, 6])\n",
    "\n",
    "ts.index = pd.to_datetime(ts.index, format=\"%d-%b-%Y\")\n",
    "ts.info()"
   ]
  },
  {
   "cell_type": "code",
   "execution_count": 39,
   "id": "ee32b5de-0b27-4512-8aab-d0c5ebfad850",
   "metadata": {
    "tags": []
   },
   "outputs": [],
   "source": [
    "# NOTE: date_parser is deprecated since version 2.0.0 \n",
    "\n",
    "# date_parser = lambda x: pd.to_datetime(x, format=\"%d-%b-%Y\")\n",
    "# ts = pd.read_csv(filepath,\n",
    "#                  parse_dates=[0],\n",
    "#                  index_col=0,\n",
    "#                  date_parser=date_parser,\n",
    "#                  usecols=[0,1,3, 7, 6])\n",
    "# ts.head()"
   ]
  },
  {
   "cell_type": "code",
   "execution_count": 41,
   "id": "676c865c-16fe-4907-bfed-7a90f3a271fc",
   "metadata": {},
   "outputs": [
    {
     "data": {
      "text/html": [
       "<div>\n",
       "<style scoped>\n",
       "    .dataframe tbody tr th:only-of-type {\n",
       "        vertical-align: middle;\n",
       "    }\n",
       "\n",
       "    .dataframe tbody tr th {\n",
       "        vertical-align: top;\n",
       "    }\n",
       "\n",
       "    .dataframe thead th {\n",
       "        text-align: right;\n",
       "    }\n",
       "</style>\n",
       "<table border=\"1\" class=\"dataframe\">\n",
       "  <thead>\n",
       "    <tr style=\"text-align: right;\">\n",
       "      <th></th>\n",
       "      <th>DOW</th>\n",
       "      <th>Daily</th>\n",
       "      <th>Forecast</th>\n",
       "      <th>Percent Diff</th>\n",
       "    </tr>\n",
       "    <tr>\n",
       "      <th>Date</th>\n",
       "      <th></th>\n",
       "      <th></th>\n",
       "      <th></th>\n",
       "      <th></th>\n",
       "    </tr>\n",
       "  </thead>\n",
       "  <tbody>\n",
       "    <tr>\n",
       "      <th>2021-04-26</th>\n",
       "      <td>Friday</td>\n",
       "      <td>$125,789.89</td>\n",
       "      <td>$235,036.46</td>\n",
       "      <td>-46.48%</td>\n",
       "    </tr>\n",
       "    <tr>\n",
       "      <th>2021-04-27</th>\n",
       "      <td>Saturday</td>\n",
       "      <td>$99,374.01</td>\n",
       "      <td>$197,622.55</td>\n",
       "      <td>-49.72%</td>\n",
       "    </tr>\n",
       "    <tr>\n",
       "      <th>2021-04-28</th>\n",
       "      <td>Sunday</td>\n",
       "      <td>$82,203.16</td>\n",
       "      <td>$116,991.26</td>\n",
       "      <td>-29.74%</td>\n",
       "    </tr>\n",
       "    <tr>\n",
       "      <th>2021-04-29</th>\n",
       "      <td>Monday</td>\n",
       "      <td>$33,530.26</td>\n",
       "      <td>$66,652.65</td>\n",
       "      <td>-49.69%</td>\n",
       "    </tr>\n",
       "    <tr>\n",
       "      <th>2021-04-30</th>\n",
       "      <td>Tuesday</td>\n",
       "      <td>$30,105.24</td>\n",
       "      <td>$34,828.19</td>\n",
       "      <td>-13.56%</td>\n",
       "    </tr>\n",
       "  </tbody>\n",
       "</table>\n",
       "</div>"
      ],
      "text/plain": [
       "                 DOW         Daily      Forecast Percent Diff\n",
       "Date                                                         \n",
       "2021-04-26    Friday  $125,789.89   $235,036.46       -46.48%\n",
       "2021-04-27  Saturday   $99,374.01   $197,622.55       -49.72%\n",
       "2021-04-28    Sunday   $82,203.16   $116,991.26       -29.74%\n",
       "2021-04-29    Monday   $33,530.26    $66,652.65       -49.69%\n",
       "2021-04-30   Tuesday   $30,105.24    $34,828.19       -13.56%"
      ]
     },
     "execution_count": 41,
     "metadata": {},
     "output_type": "execute_result"
    }
   ],
   "source": [
    "ts = pd.read_csv(filepath,\n",
    "                 header=0,\n",
    "                 parse_dates=['Date'],\n",
    "                 index_col=0,\n",
    "                 #infer_datetime_format= True, # infer_datetime_format is deprecated since version 2.0.0 (already the default)\n",
    "                 usecols=['Date',\n",
    "                          'DOW',\n",
    "                          'Daily',\n",
    "                          'Forecast',\n",
    "                          'Percent Diff'])\n",
    "ts.head()"
   ]
  },
  {
   "cell_type": "markdown",
   "id": "c1f2c015-77b6-4e59-b300-79df45c13c9f",
   "metadata": {
    "tags": []
   },
   "source": [
    "# Recipe 2: Reading data from an Excel file\n",
    "* Learn how to read data from Excel files using pandas \n",
    "* Learn how to read from multiple sheets into DataFrames"
   ]
  },
  {
   "cell_type": "markdown",
   "id": "6c348d1b-52a6-4a3a-9a7e-7fb4facba5fe",
   "metadata": {},
   "source": [
    "* To install openpyxl using conda, run the following command in the terminal:\n",
    "\n",
    "```\n",
    "conda install openpyxl\n",
    "```\n",
    "* To install using pip, run the following command:\n",
    "\n",
    "```\n",
    "pip install openpyxl\n",
    "```"
   ]
  },
  {
   "cell_type": "code",
   "execution_count": 45,
   "id": "aff3d06e-12de-4cc9-9785-ff2548c434ed",
   "metadata": {},
   "outputs": [],
   "source": [
    "#!conda install openpyxl -y\n",
    "#!pip install openpyxl"
   ]
  },
  {
   "cell_type": "code",
   "execution_count": 47,
   "id": "a4610e13-c484-4b65-af84-bc33da9c9ea4",
   "metadata": {},
   "outputs": [],
   "source": [
    "import pandas as pd\n",
    "from pathlib import Path\n",
    "filepath = Path('../../datasets/Ch2/sales_trx_data.xlsx')"
   ]
  },
  {
   "cell_type": "code",
   "execution_count": 49,
   "id": "32671e24-3314-46b0-aa9f-ff7d8e508383",
   "metadata": {},
   "outputs": [
    {
     "data": {
      "text/plain": [
       "True"
      ]
     },
     "execution_count": 49,
     "metadata": {},
     "output_type": "execute_result"
    }
   ],
   "source": [
    "filepath.exists()"
   ]
  },
  {
   "cell_type": "code",
   "execution_count": 51,
   "id": "93768b2a-bc9e-4a6a-8f72-cfdf6ec017f4",
   "metadata": {},
   "outputs": [
    {
     "data": {
      "text/plain": [
       "'3.1.5'"
      ]
     },
     "execution_count": 51,
     "metadata": {},
     "output_type": "execute_result"
    }
   ],
   "source": [
    "import openpyxl\n",
    "openpyxl.__version__"
   ]
  },
  {
   "cell_type": "code",
   "execution_count": 52,
   "id": "63bbe7dd-7677-4642-88a3-37c2861a031f",
   "metadata": {},
   "outputs": [
    {
     "data": {
      "text/plain": [
       "['2017', '2018']"
      ]
     },
     "execution_count": 52,
     "metadata": {},
     "output_type": "execute_result"
    }
   ],
   "source": [
    "excelfile = pd.ExcelFile(filepath)\n",
    "excelfile.sheet_names"
   ]
  },
  {
   "cell_type": "code",
   "execution_count": 55,
   "id": "ce1c5c12-a858-4438-92dd-bc4b03b344e0",
   "metadata": {},
   "outputs": [
    {
     "data": {
      "text/html": [
       "<div>\n",
       "<style scoped>\n",
       "    .dataframe tbody tr th:only-of-type {\n",
       "        vertical-align: middle;\n",
       "    }\n",
       "\n",
       "    .dataframe tbody tr th {\n",
       "        vertical-align: top;\n",
       "    }\n",
       "\n",
       "    .dataframe thead th {\n",
       "        text-align: right;\n",
       "    }\n",
       "</style>\n",
       "<table border=\"1\" class=\"dataframe\">\n",
       "  <thead>\n",
       "    <tr style=\"text-align: right;\">\n",
       "      <th></th>\n",
       "      <th>Line_Item_ID</th>\n",
       "      <th>Date</th>\n",
       "      <th>Credit_Card_Number</th>\n",
       "      <th>Quantity</th>\n",
       "      <th>Menu_Item</th>\n",
       "    </tr>\n",
       "  </thead>\n",
       "  <tbody>\n",
       "    <tr>\n",
       "      <th>0</th>\n",
       "      <td>1</td>\n",
       "      <td>2017-01-01</td>\n",
       "      <td>7437926611570790</td>\n",
       "      <td>1</td>\n",
       "      <td>spicy miso ramen</td>\n",
       "    </tr>\n",
       "    <tr>\n",
       "      <th>1</th>\n",
       "      <td>2</td>\n",
       "      <td>2017-01-01</td>\n",
       "      <td>7437926611570790</td>\n",
       "      <td>1</td>\n",
       "      <td>spicy miso ramen</td>\n",
       "    </tr>\n",
       "    <tr>\n",
       "      <th>2</th>\n",
       "      <td>3</td>\n",
       "      <td>2017-01-01</td>\n",
       "      <td>8421920068932810</td>\n",
       "      <td>3</td>\n",
       "      <td>tori paitan ramen</td>\n",
       "    </tr>\n",
       "    <tr>\n",
       "      <th>3</th>\n",
       "      <td>4</td>\n",
       "      <td>2017-01-01</td>\n",
       "      <td>8421920068932810</td>\n",
       "      <td>3</td>\n",
       "      <td>tori paitan ramen</td>\n",
       "    </tr>\n",
       "    <tr>\n",
       "      <th>4</th>\n",
       "      <td>5</td>\n",
       "      <td>2017-01-01</td>\n",
       "      <td>4787310681569640</td>\n",
       "      <td>1</td>\n",
       "      <td>truffle butter ramen</td>\n",
       "    </tr>\n",
       "    <tr>\n",
       "      <th>...</th>\n",
       "      <td>...</td>\n",
       "      <td>...</td>\n",
       "      <td>...</td>\n",
       "      <td>...</td>\n",
       "      <td>...</td>\n",
       "    </tr>\n",
       "    <tr>\n",
       "      <th>36759</th>\n",
       "      <td>36760</td>\n",
       "      <td>2017-12-31</td>\n",
       "      <td>3149176814183170</td>\n",
       "      <td>4</td>\n",
       "      <td>vegetarian curry + king trumpet mushroom ramen</td>\n",
       "    </tr>\n",
       "    <tr>\n",
       "      <th>36760</th>\n",
       "      <td>36761</td>\n",
       "      <td>2017-12-31</td>\n",
       "      <td>2005206728506200</td>\n",
       "      <td>1</td>\n",
       "      <td>tonkotsu ramen</td>\n",
       "    </tr>\n",
       "    <tr>\n",
       "      <th>36761</th>\n",
       "      <td>36762</td>\n",
       "      <td>2017-12-31</td>\n",
       "      <td>2005206728506200</td>\n",
       "      <td>1</td>\n",
       "      <td>tonkotsu ramen</td>\n",
       "    </tr>\n",
       "    <tr>\n",
       "      <th>36762</th>\n",
       "      <td>36763</td>\n",
       "      <td>2017-12-31</td>\n",
       "      <td>1130414909788170</td>\n",
       "      <td>2</td>\n",
       "      <td>soft-shell miso crab ramen</td>\n",
       "    </tr>\n",
       "    <tr>\n",
       "      <th>36763</th>\n",
       "      <td>36764</td>\n",
       "      <td>2017-12-31</td>\n",
       "      <td>1130414909788170</td>\n",
       "      <td>2</td>\n",
       "      <td>soft-shell miso crab ramen</td>\n",
       "    </tr>\n",
       "  </tbody>\n",
       "</table>\n",
       "<p>36764 rows × 5 columns</p>\n",
       "</div>"
      ],
      "text/plain": [
       "       Line_Item_ID       Date  Credit_Card_Number  Quantity  \\\n",
       "0                 1 2017-01-01    7437926611570790         1   \n",
       "1                 2 2017-01-01    7437926611570790         1   \n",
       "2                 3 2017-01-01    8421920068932810         3   \n",
       "3                 4 2017-01-01    8421920068932810         3   \n",
       "4                 5 2017-01-01    4787310681569640         1   \n",
       "...             ...        ...                 ...       ...   \n",
       "36759         36760 2017-12-31    3149176814183170         4   \n",
       "36760         36761 2017-12-31    2005206728506200         1   \n",
       "36761         36762 2017-12-31    2005206728506200         1   \n",
       "36762         36763 2017-12-31    1130414909788170         2   \n",
       "36763         36764 2017-12-31    1130414909788170         2   \n",
       "\n",
       "                                            Menu_Item  \n",
       "0                                    spicy miso ramen  \n",
       "1                                    spicy miso ramen  \n",
       "2                                   tori paitan ramen  \n",
       "3                                   tori paitan ramen  \n",
       "4                                truffle butter ramen  \n",
       "...                                               ...  \n",
       "36759  vegetarian curry + king trumpet mushroom ramen  \n",
       "36760                                  tonkotsu ramen  \n",
       "36761                                  tonkotsu ramen  \n",
       "36762                      soft-shell miso crab ramen  \n",
       "36763                      soft-shell miso crab ramen  \n",
       "\n",
       "[36764 rows x 5 columns]"
      ]
     },
     "execution_count": 55,
     "metadata": {},
     "output_type": "execute_result"
    }
   ],
   "source": [
    "excelfile.parse('2017')"
   ]
  },
  {
   "cell_type": "code",
   "execution_count": 56,
   "id": "9d46ccf9-8921-44ac-823e-e58836d6cb84",
   "metadata": {},
   "outputs": [
    {
     "data": {
      "text/plain": [
       "dict_keys([0, 1])"
      ]
     },
     "execution_count": 56,
     "metadata": {},
     "output_type": "execute_result"
    }
   ],
   "source": [
    "ts = pd.read_excel(filepath,\n",
    "                    engine='openpyxl',\n",
    "                    index_col=1,\n",
    "                    sheet_name=[0,1],\n",
    "                    parse_dates=True)\n",
    "ts.keys()"
   ]
  },
  {
   "cell_type": "code",
   "execution_count": 58,
   "id": "6e845a34-f261-4abd-a7ca-d7b78cf036b7",
   "metadata": {},
   "outputs": [
    {
     "data": {
      "text/plain": [
       "dict_keys(['2017', '2018'])"
      ]
     },
     "execution_count": 58,
     "metadata": {},
     "output_type": "execute_result"
    }
   ],
   "source": [
    "ts = pd.read_excel(filepath,\n",
    "                    engine='openpyxl',\n",
    "                    index_col=1,\n",
    "                    sheet_name=['2017','2018'],\n",
    "                    parse_dates=True)\n",
    "ts.keys()"
   ]
  },
  {
   "cell_type": "code",
   "execution_count": 59,
   "id": "0fc089c3-cfeb-4ad4-8dd9-e032b3e4b5a8",
   "metadata": {},
   "outputs": [
    {
     "data": {
      "text/plain": [
       "dict_keys(['2017', '2018'])"
      ]
     },
     "execution_count": 59,
     "metadata": {},
     "output_type": "execute_result"
    }
   ],
   "source": [
    "ts = pd.read_excel(filepath,\n",
    "                    engine='openpyxl',\n",
    "                    index_col=1,\n",
    "                    sheet_name=None,\n",
    "                    parse_dates=True)\n",
    "ts.keys()"
   ]
  },
  {
   "cell_type": "code",
   "execution_count": 60,
   "id": "532a5897-53eb-475f-914c-5a6c38c0f442",
   "metadata": {},
   "outputs": [
    {
     "name": "stdout",
     "output_type": "stream",
     "text": [
      "<class 'pandas.core.frame.DataFrame'>\n",
      "DatetimeIndex: 36764 entries, 2017-01-01 to 2017-12-31\n",
      "Data columns (total 4 columns):\n",
      " #   Column              Non-Null Count  Dtype \n",
      "---  ------              --------------  ----- \n",
      " 0   Line_Item_ID        36764 non-null  int64 \n",
      " 1   Credit_Card_Number  36764 non-null  int64 \n",
      " 2   Quantity            36764 non-null  int64 \n",
      " 3   Menu_Item           36764 non-null  object\n",
      "dtypes: int64(3), object(1)\n",
      "memory usage: 1.4+ MB\n"
     ]
    }
   ],
   "source": [
    "ts['2017'].info()"
   ]
  },
  {
   "cell_type": "code",
   "execution_count": 61,
   "id": "acd9b6a2-e291-4172-8310-027fbda6c880",
   "metadata": {},
   "outputs": [
    {
     "name": "stdout",
     "output_type": "stream",
     "text": [
      "<class 'pandas.core.frame.DataFrame'>\n",
      "DatetimeIndex: 37360 entries, 2018-01-01 to 2018-12-31\n",
      "Data columns (total 4 columns):\n",
      " #   Column              Non-Null Count  Dtype \n",
      "---  ------              --------------  ----- \n",
      " 0   Line_Item_ID        37360 non-null  int64 \n",
      " 1   Credit_Card_Number  37360 non-null  int64 \n",
      " 2   Quantity            37360 non-null  int64 \n",
      " 3   Menu_Item           37360 non-null  object\n",
      "dtypes: int64(3), object(1)\n",
      "memory usage: 1.4+ MB\n"
     ]
    }
   ],
   "source": [
    "ts['2018'].info()"
   ]
  },
  {
   "cell_type": "code",
   "execution_count": 63,
   "id": "8bb16eb6-c6e7-4e27-aa5f-4c8003ace5a0",
   "metadata": {},
   "outputs": [],
   "source": [
    "ts_combined = pd.concat([ts['2017'],ts['2018']])"
   ]
  },
  {
   "cell_type": "code",
   "execution_count": 65,
   "id": "966a7f86-abce-49ca-846d-3f1f2f9f02d6",
   "metadata": {},
   "outputs": [
    {
     "name": "stdout",
     "output_type": "stream",
     "text": [
      "<class 'pandas.core.frame.DataFrame'>\n",
      "DatetimeIndex: 74124 entries, 2017-01-01 to 2018-12-31\n",
      "Data columns (total 4 columns):\n",
      " #   Column              Non-Null Count  Dtype \n",
      "---  ------              --------------  ----- \n",
      " 0   Line_Item_ID        74124 non-null  int64 \n",
      " 1   Credit_Card_Number  74124 non-null  int64 \n",
      " 2   Quantity            74124 non-null  int64 \n",
      " 3   Menu_Item           74124 non-null  object\n",
      "dtypes: int64(3), object(1)\n",
      "memory usage: 2.8+ MB\n"
     ]
    }
   ],
   "source": [
    "ts_combined.info()"
   ]
  },
  {
   "cell_type": "code",
   "execution_count": 66,
   "id": "3ddc8ab9-a868-475c-8d88-f6b7113d5892",
   "metadata": {},
   "outputs": [
    {
     "data": {
      "text/plain": [
       "MultiIndex([('2017', '2017-01-01'),\n",
       "            ('2017', '2017-01-01'),\n",
       "            ('2017', '2017-01-01'),\n",
       "            ('2017', '2017-01-01'),\n",
       "            ('2017', '2017-01-01'),\n",
       "            ('2017', '2017-01-01'),\n",
       "            ('2017', '2017-01-01'),\n",
       "            ('2017', '2017-01-01'),\n",
       "            ('2017', '2017-01-01'),\n",
       "            ('2017', '2017-01-01'),\n",
       "            ...\n",
       "            ('2018', '2018-12-31'),\n",
       "            ('2018', '2018-12-31'),\n",
       "            ('2018', '2018-12-31'),\n",
       "            ('2018', '2018-12-31'),\n",
       "            ('2018', '2018-12-31'),\n",
       "            ('2018', '2018-12-31'),\n",
       "            ('2018', '2018-12-31'),\n",
       "            ('2018', '2018-12-31'),\n",
       "            ('2018', '2018-12-31'),\n",
       "            ('2018', '2018-12-31')],\n",
       "           names=[None, 'Date'], length=74124)"
      ]
     },
     "execution_count": 66,
     "metadata": {},
     "output_type": "execute_result"
    }
   ],
   "source": [
    "pd.concat(ts).index"
   ]
  },
  {
   "cell_type": "code",
   "execution_count": 67,
   "id": "c5e27638-bd4f-418f-95c9-da6c552e973c",
   "metadata": {},
   "outputs": [
    {
     "name": "stdout",
     "output_type": "stream",
     "text": [
      "            Line_Item_ID  Credit_Card_Number  Quantity             Menu_Item\n",
      "Date                                                                        \n",
      "2017-01-01             1    7437926611570790         1      spicy miso ramen\n",
      "2017-01-01             2    7437926611570790         1      spicy miso ramen\n",
      "2017-01-01             3    8421920068932810         3     tori paitan ramen\n",
      "2017-01-01             4    8421920068932810         3     tori paitan ramen\n",
      "2017-01-01             5    4787310681569640         1  truffle butter ramen\n"
     ]
    }
   ],
   "source": [
    "ts_combined = pd.concat(ts).droplevel(level=0)\n",
    "print(ts_combined.head())"
   ]
  },
  {
   "cell_type": "code",
   "execution_count": 68,
   "id": "31b66f18-eead-4210-b3f0-05e57fa12ba4",
   "metadata": {},
   "outputs": [
    {
     "data": {
      "text/plain": [
       "pandas.core.frame.DataFrame"
      ]
     },
     "execution_count": 68,
     "metadata": {},
     "output_type": "execute_result"
    }
   ],
   "source": [
    "ts = pd.read_excel(filepath,\n",
    "                   index_col=1,\n",
    "                   sheet_name='2018',\n",
    "                   parse_dates=True)\n",
    "type(ts)"
   ]
  },
  {
   "cell_type": "code",
   "execution_count": 76,
   "id": "fe7edbc2-5c37-4f9a-9761-709d02e4b0a0",
   "metadata": {},
   "outputs": [
    {
     "data": {
      "text/plain": [
       "dict"
      ]
     },
     "execution_count": 76,
     "metadata": {},
     "output_type": "execute_result"
    }
   ],
   "source": [
    "ts = pd.read_excel(filepath,\n",
    "                   index_col=1,\n",
    "                   sheet_name=['2018'],\n",
    "                   parse_dates=True)\n",
    "type(ts)"
   ]
  },
  {
   "cell_type": "code",
   "execution_count": 77,
   "id": "311d515f-714d-4b4f-912b-a57ec7253683",
   "metadata": {},
   "outputs": [
    {
     "data": {
      "text/plain": [
       "dict"
      ]
     },
     "execution_count": 77,
     "metadata": {},
     "output_type": "execute_result"
    }
   ],
   "source": [
    "ts = pd.read_excel(filepath,\n",
    "                   index_col=1,\n",
    "                   sheet_name=[1],\n",
    "                   parse_dates=True)\n",
    "type(ts)"
   ]
  },
  {
   "cell_type": "markdown",
   "id": "1de33298-bccc-4d86-a827-39b8bc4d8376",
   "metadata": {},
   "source": [
    "## There is more\n",
    "* Using `ExcelFile`"
   ]
  },
  {
   "cell_type": "code",
   "execution_count": 81,
   "id": "1655b775-cd6c-4f28-8ed4-7e8b89e0e460",
   "metadata": {},
   "outputs": [
    {
     "data": {
      "text/html": [
       "<div>\n",
       "<style scoped>\n",
       "    .dataframe tbody tr th:only-of-type {\n",
       "        vertical-align: middle;\n",
       "    }\n",
       "\n",
       "    .dataframe tbody tr th {\n",
       "        vertical-align: top;\n",
       "    }\n",
       "\n",
       "    .dataframe thead th {\n",
       "        text-align: right;\n",
       "    }\n",
       "</style>\n",
       "<table border=\"1\" class=\"dataframe\">\n",
       "  <thead>\n",
       "    <tr style=\"text-align: right;\">\n",
       "      <th></th>\n",
       "      <th>Line_Item_ID</th>\n",
       "      <th>Credit_Card_Number</th>\n",
       "      <th>Quantity</th>\n",
       "      <th>Menu_Item</th>\n",
       "    </tr>\n",
       "    <tr>\n",
       "      <th>Date</th>\n",
       "      <th></th>\n",
       "      <th></th>\n",
       "      <th></th>\n",
       "      <th></th>\n",
       "    </tr>\n",
       "  </thead>\n",
       "  <tbody>\n",
       "    <tr>\n",
       "      <th>2017-01-01</th>\n",
       "      <td>1</td>\n",
       "      <td>7437926611570790</td>\n",
       "      <td>1</td>\n",
       "      <td>spicy miso ramen</td>\n",
       "    </tr>\n",
       "    <tr>\n",
       "      <th>2017-01-01</th>\n",
       "      <td>2</td>\n",
       "      <td>7437926611570790</td>\n",
       "      <td>1</td>\n",
       "      <td>spicy miso ramen</td>\n",
       "    </tr>\n",
       "    <tr>\n",
       "      <th>2017-01-01</th>\n",
       "      <td>3</td>\n",
       "      <td>8421920068932810</td>\n",
       "      <td>3</td>\n",
       "      <td>tori paitan ramen</td>\n",
       "    </tr>\n",
       "    <tr>\n",
       "      <th>2017-01-01</th>\n",
       "      <td>4</td>\n",
       "      <td>8421920068932810</td>\n",
       "      <td>3</td>\n",
       "      <td>tori paitan ramen</td>\n",
       "    </tr>\n",
       "    <tr>\n",
       "      <th>2017-01-01</th>\n",
       "      <td>5</td>\n",
       "      <td>4787310681569640</td>\n",
       "      <td>1</td>\n",
       "      <td>truffle butter ramen</td>\n",
       "    </tr>\n",
       "  </tbody>\n",
       "</table>\n",
       "</div>"
      ],
      "text/plain": [
       "            Line_Item_ID  Credit_Card_Number  Quantity             Menu_Item\n",
       "Date                                                                        \n",
       "2017-01-01             1    7437926611570790         1      spicy miso ramen\n",
       "2017-01-01             2    7437926611570790         1      spicy miso ramen\n",
       "2017-01-01             3    8421920068932810         3     tori paitan ramen\n",
       "2017-01-01             4    8421920068932810         3     tori paitan ramen\n",
       "2017-01-01             5    4787310681569640         1  truffle butter ramen"
      ]
     },
     "execution_count": 81,
     "metadata": {},
     "output_type": "execute_result"
    }
   ],
   "source": [
    "excelfile = pd.ExcelFile(filepath)\n",
    "excelfile.parse(sheet_name='2017',\n",
    "                index_col=1,\n",
    "                parse_dates=True).head()\n",
    "\n"
   ]
  },
  {
   "cell_type": "code",
   "execution_count": 82,
   "id": "f1657667-c564-4cef-b791-116fbca2bf4c",
   "metadata": {},
   "outputs": [
    {
     "name": "stdout",
     "output_type": "stream",
     "text": [
      "            Line_Item_ID  Credit_Card_Number  Quantity             Menu_Item\n",
      "Date                                                                        \n",
      "2017-01-01             1    7437926611570790         1      spicy miso ramen\n",
      "2017-01-01             2    7437926611570790         1      spicy miso ramen\n",
      "2017-01-01             3    8421920068932810         3     tori paitan ramen\n",
      "2017-01-01             4    8421920068932810         3     tori paitan ramen\n",
      "2017-01-01             5    4787310681569640         1  truffle butter ramen\n"
     ]
    }
   ],
   "source": [
    "print(excelfile.parse(sheet_name='2017',\n",
    "                index_col=1,\n",
    "                parse_dates=True).head())"
   ]
  },
  {
   "cell_type": "markdown",
   "id": "cb565e22-12c8-44c8-8c66-5e7b91f28275",
   "metadata": {},
   "source": [
    "# Recipe 3: Reading data from a URL\n",
    "* Learn how to read data as a DataFrame from GitHub\n",
    "* Learn how to read data as a DataFrame from AWS S3 using `pandas`\n",
    "* Learn how to read an HTML page and extract tables using `pandas`"
   ]
  },
  {
   "cell_type": "code",
   "execution_count": 86,
   "id": "00bf2d0a-389a-4efd-ac70-af9cb4a74fbd",
   "metadata": {},
   "outputs": [],
   "source": [
    "#!conda install boto3 s3fs html5lib lxml -y\n",
    "#!pip install boto3 s3fs html5lib lxml"
   ]
  },
  {
   "cell_type": "markdown",
   "id": "d0d2d40d-e29b-499d-903f-ecf96fdf3b66",
   "metadata": {},
   "source": [
    "* To install using pip, you can use the following command:\n",
    "\n",
    "```\n",
    "pip install boto3 s3fs lxml\n",
    "```\n",
    "\n",
    "* To install using Conda, you can use:\n",
    "\n",
    "```\n",
    "conda install boto3 s3fs lxml -y\n",
    "```"
   ]
  },
  {
   "cell_type": "code",
   "execution_count": 89,
   "id": "0df2d7c3-ef1e-4101-890d-50ce9cfdb9cc",
   "metadata": {},
   "outputs": [],
   "source": [
    "import pandas as pd"
   ]
  },
  {
   "cell_type": "code",
   "execution_count": 91,
   "id": "3f9da6ce-da09-4e09-9501-9a8520e03e87",
   "metadata": {},
   "outputs": [
    {
     "name": "stdout",
     "output_type": "stream",
     "text": [
      "\n",
      "pandas -> 2.2.3\n",
      "boto3 -> 1.36.1\n",
      "s3fs -> 2024.12.0\n",
      "lxml -> 5.3.0\n",
      "\n"
     ]
    }
   ],
   "source": [
    "import pandas as pd\n",
    "import boto3, s3fs, lxml\n",
    "print(f'''\n",
    "pandas -> {pd.__version__}\n",
    "boto3 -> {boto3.__version__}\n",
    "s3fs -> {s3fs.__version__}\n",
    "lxml -> {lxml.__version__}\n",
    "''')"
   ]
  },
  {
   "cell_type": "markdown",
   "id": "26f56e5a-a01d-482f-b5b0-e7cf8a677e80",
   "metadata": {},
   "source": [
    "## Reading from GitHub"
   ]
  },
  {
   "cell_type": "code",
   "execution_count": 93,
   "id": "c208b0e8-7f40-4f2b-938b-6b538492cd8b",
   "metadata": {},
   "outputs": [],
   "source": [
    "# example of produced error\n",
    "url = 'https://github.com/PacktPublishing/Time-Series-Analysis-with-Python-Cookbook-Second-Edition/blob/main/datasets/Ch2/AirQualityUCI.csv'\n",
    "# pd.read_csv(url)\n"
   ]
  },
  {
   "cell_type": "code",
   "execution_count": 95,
   "id": "1578a313-df89-4d15-81c0-511f50f49c4b",
   "metadata": {},
   "outputs": [
    {
     "data": {
      "text/html": [
       "<div>\n",
       "<style scoped>\n",
       "    .dataframe tbody tr th:only-of-type {\n",
       "        vertical-align: middle;\n",
       "    }\n",
       "\n",
       "    .dataframe tbody tr th {\n",
       "        vertical-align: top;\n",
       "    }\n",
       "\n",
       "    .dataframe thead th {\n",
       "        text-align: right;\n",
       "    }\n",
       "</style>\n",
       "<table border=\"1\" class=\"dataframe\">\n",
       "  <thead>\n",
       "    <tr style=\"text-align: right;\">\n",
       "      <th></th>\n",
       "      <th>CO(GT)</th>\n",
       "      <th>PT08.S1(CO)</th>\n",
       "      <th>NMHC(GT)</th>\n",
       "    </tr>\n",
       "    <tr>\n",
       "      <th>Date</th>\n",
       "      <th></th>\n",
       "      <th></th>\n",
       "      <th></th>\n",
       "    </tr>\n",
       "  </thead>\n",
       "  <tbody>\n",
       "    <tr>\n",
       "      <th>10/03/2004</th>\n",
       "      <td>2.6</td>\n",
       "      <td>1360.00</td>\n",
       "      <td>150</td>\n",
       "    </tr>\n",
       "    <tr>\n",
       "      <th>10/03/2004</th>\n",
       "      <td>2.0</td>\n",
       "      <td>1292.25</td>\n",
       "      <td>112</td>\n",
       "    </tr>\n",
       "    <tr>\n",
       "      <th>10/03/2004</th>\n",
       "      <td>2.2</td>\n",
       "      <td>1402.00</td>\n",
       "      <td>88</td>\n",
       "    </tr>\n",
       "  </tbody>\n",
       "</table>\n",
       "</div>"
      ],
      "text/plain": [
       "            CO(GT)  PT08.S1(CO)  NMHC(GT)\n",
       "Date                                     \n",
       "10/03/2004     2.6      1360.00       150\n",
       "10/03/2004     2.0      1292.25       112\n",
       "10/03/2004     2.2      1402.00        88"
      ]
     },
     "execution_count": 95,
     "metadata": {},
     "output_type": "execute_result"
    }
   ],
   "source": [
    "url = 'https://raw.githubusercontent.com/PacktPublishing/Time-Series-Analysis-with-Python-Cookbook-Second-Edition/refs/heads/main/datasets/Ch2/AirQualityUCI.csv'\n",
    "\n",
    "df = pd.read_csv(url,\n",
    "                 delimiter=';',\n",
    "                 parse_dates=['Date'],\n",
    "                 index_col='Date')\n",
    "\n",
    "df.iloc[:3,1:4]"
   ]
  },
  {
   "cell_type": "code",
   "execution_count": 97,
   "id": "4fccb606-32a9-4e47-8492-e9bde58a5c61",
   "metadata": {},
   "outputs": [
    {
     "name": "stdout",
     "output_type": "stream",
     "text": [
      "                Time  CO(GT)  PT08.S1(CO)  NMHC(GT)   C6H6(GT)\n",
      "Date                                                          \n",
      "10/03/2004  18:00:00     2.6      1360.00       150  11.881723\n",
      "10/03/2004  19:00:00     2.0      1292.25       112   9.397165\n",
      "10/03/2004  20:00:00     2.2      1402.00        88   8.997817\n",
      "10/03/2004  21:00:00     2.2      1375.50        80   9.228796\n",
      "10/03/2004  22:00:00     1.6      1272.25        51   6.518224\n"
     ]
    }
   ],
   "source": [
    "print(df.iloc[:5, 0:5])"
   ]
  },
  {
   "cell_type": "markdown",
   "id": "c82c8204-6ad5-4f49-8d34-2e5876555773",
   "metadata": {},
   "source": [
    "## Reading from Public S3 Bucket"
   ]
  },
  {
   "cell_type": "markdown",
   "id": "393cb663-ce20-4bca-8ead-a2ec5a59e37f",
   "metadata": {},
   "source": [
    "**Path-style access**"
   ]
  },
  {
   "cell_type": "code",
   "execution_count": 101,
   "id": "88e3c41b-45ba-4170-abd3-fa27b3197b82",
   "metadata": {},
   "outputs": [
    {
     "data": {
      "text/html": [
       "<div>\n",
       "<style scoped>\n",
       "    .dataframe tbody tr th:only-of-type {\n",
       "        vertical-align: middle;\n",
       "    }\n",
       "\n",
       "    .dataframe tbody tr th {\n",
       "        vertical-align: top;\n",
       "    }\n",
       "\n",
       "    .dataframe thead th {\n",
       "        text-align: right;\n",
       "    }\n",
       "</style>\n",
       "<table border=\"1\" class=\"dataframe\">\n",
       "  <thead>\n",
       "    <tr style=\"text-align: right;\">\n",
       "      <th></th>\n",
       "      <th>Time</th>\n",
       "      <th>CO(GT)</th>\n",
       "      <th>PT08.S1(CO)</th>\n",
       "      <th>NMHC(GT)</th>\n",
       "      <th>C6H6(GT)</th>\n",
       "      <th>PT08.S2(NMHC)</th>\n",
       "      <th>NOx(GT)</th>\n",
       "      <th>PT08.S3(NOx)</th>\n",
       "      <th>NO2(GT)</th>\n",
       "      <th>PT08.S4(NO2)</th>\n",
       "      <th>PT08.S5(O3)</th>\n",
       "      <th>T</th>\n",
       "      <th>RH</th>\n",
       "      <th>AH</th>\n",
       "    </tr>\n",
       "    <tr>\n",
       "      <th>Date</th>\n",
       "      <th></th>\n",
       "      <th></th>\n",
       "      <th></th>\n",
       "      <th></th>\n",
       "      <th></th>\n",
       "      <th></th>\n",
       "      <th></th>\n",
       "      <th></th>\n",
       "      <th></th>\n",
       "      <th></th>\n",
       "      <th></th>\n",
       "      <th></th>\n",
       "      <th></th>\n",
       "      <th></th>\n",
       "    </tr>\n",
       "  </thead>\n",
       "  <tbody>\n",
       "    <tr>\n",
       "      <th>2004-03-10</th>\n",
       "      <td>18:00:00</td>\n",
       "      <td>2.6</td>\n",
       "      <td>1360.00</td>\n",
       "      <td>150</td>\n",
       "      <td>11.881723</td>\n",
       "      <td>1045.50</td>\n",
       "      <td>166.0</td>\n",
       "      <td>1056.25</td>\n",
       "      <td>113.0</td>\n",
       "      <td>1692.00</td>\n",
       "      <td>1267.50</td>\n",
       "      <td>13.60</td>\n",
       "      <td>48.875001</td>\n",
       "      <td>0.757754</td>\n",
       "    </tr>\n",
       "    <tr>\n",
       "      <th>2004-03-10</th>\n",
       "      <td>19:00:00</td>\n",
       "      <td>2.0</td>\n",
       "      <td>1292.25</td>\n",
       "      <td>112</td>\n",
       "      <td>9.397165</td>\n",
       "      <td>954.75</td>\n",
       "      <td>103.0</td>\n",
       "      <td>1173.75</td>\n",
       "      <td>92.0</td>\n",
       "      <td>1558.75</td>\n",
       "      <td>972.25</td>\n",
       "      <td>13.30</td>\n",
       "      <td>47.700000</td>\n",
       "      <td>0.725487</td>\n",
       "    </tr>\n",
       "    <tr>\n",
       "      <th>2004-03-10</th>\n",
       "      <td>20:00:00</td>\n",
       "      <td>2.2</td>\n",
       "      <td>1402.00</td>\n",
       "      <td>88</td>\n",
       "      <td>8.997817</td>\n",
       "      <td>939.25</td>\n",
       "      <td>131.0</td>\n",
       "      <td>1140.00</td>\n",
       "      <td>114.0</td>\n",
       "      <td>1554.50</td>\n",
       "      <td>1074.00</td>\n",
       "      <td>11.90</td>\n",
       "      <td>53.975000</td>\n",
       "      <td>0.750239</td>\n",
       "    </tr>\n",
       "    <tr>\n",
       "      <th>2004-03-10</th>\n",
       "      <td>21:00:00</td>\n",
       "      <td>2.2</td>\n",
       "      <td>1375.50</td>\n",
       "      <td>80</td>\n",
       "      <td>9.228796</td>\n",
       "      <td>948.25</td>\n",
       "      <td>172.0</td>\n",
       "      <td>1092.00</td>\n",
       "      <td>122.0</td>\n",
       "      <td>1583.75</td>\n",
       "      <td>1203.25</td>\n",
       "      <td>11.00</td>\n",
       "      <td>60.000000</td>\n",
       "      <td>0.786713</td>\n",
       "    </tr>\n",
       "    <tr>\n",
       "      <th>2004-03-10</th>\n",
       "      <td>22:00:00</td>\n",
       "      <td>1.6</td>\n",
       "      <td>1272.25</td>\n",
       "      <td>51</td>\n",
       "      <td>6.518224</td>\n",
       "      <td>835.50</td>\n",
       "      <td>131.0</td>\n",
       "      <td>1205.00</td>\n",
       "      <td>116.0</td>\n",
       "      <td>1490.00</td>\n",
       "      <td>1110.00</td>\n",
       "      <td>11.15</td>\n",
       "      <td>59.575001</td>\n",
       "      <td>0.788794</td>\n",
       "    </tr>\n",
       "  </tbody>\n",
       "</table>\n",
       "</div>"
      ],
      "text/plain": [
       "                Time  CO(GT)  PT08.S1(CO)  NMHC(GT)   C6H6(GT)  PT08.S2(NMHC)  \\\n",
       "Date                                                                            \n",
       "2004-03-10  18:00:00     2.6      1360.00       150  11.881723        1045.50   \n",
       "2004-03-10  19:00:00     2.0      1292.25       112   9.397165         954.75   \n",
       "2004-03-10  20:00:00     2.2      1402.00        88   8.997817         939.25   \n",
       "2004-03-10  21:00:00     2.2      1375.50        80   9.228796         948.25   \n",
       "2004-03-10  22:00:00     1.6      1272.25        51   6.518224         835.50   \n",
       "\n",
       "            NOx(GT)  PT08.S3(NOx)  NO2(GT)  PT08.S4(NO2)  PT08.S5(O3)      T  \\\n",
       "Date                                                                           \n",
       "2004-03-10    166.0       1056.25    113.0       1692.00      1267.50  13.60   \n",
       "2004-03-10    103.0       1173.75     92.0       1558.75       972.25  13.30   \n",
       "2004-03-10    131.0       1140.00    114.0       1554.50      1074.00  11.90   \n",
       "2004-03-10    172.0       1092.00    122.0       1583.75      1203.25  11.00   \n",
       "2004-03-10    131.0       1205.00    116.0       1490.00      1110.00  11.15   \n",
       "\n",
       "                   RH        AH  \n",
       "Date                             \n",
       "2004-03-10  48.875001  0.757754  \n",
       "2004-03-10  47.700000  0.725487  \n",
       "2004-03-10  53.975000  0.750239  \n",
       "2004-03-10  60.000000  0.786713  \n",
       "2004-03-10  59.575001  0.788794  "
      ]
     },
     "execution_count": 101,
     "metadata": {},
     "output_type": "execute_result"
    }
   ],
   "source": [
    "import pandas as pd\n",
    "\n",
    "url = 'https://s3.us-east-1.amazonaws.com/tscookbook/AirQualityUCI.xlsx'\n",
    "\n",
    "df = pd.read_excel(url,\n",
    "                   index_col='Date',\n",
    "                   parse_dates=True)\n",
    "df.head()"
   ]
  },
  {
   "cell_type": "markdown",
   "id": "841a4a4c-1fdd-4acf-b55b-ac07c462148a",
   "metadata": {},
   "source": [
    "**Virtual-hosted–style access**"
   ]
  },
  {
   "cell_type": "code",
   "execution_count": 103,
   "id": "099d08e9-cba3-4ea9-96d2-dc26c92915b8",
   "metadata": {},
   "outputs": [
    {
     "data": {
      "text/html": [
       "<div>\n",
       "<style scoped>\n",
       "    .dataframe tbody tr th:only-of-type {\n",
       "        vertical-align: middle;\n",
       "    }\n",
       "\n",
       "    .dataframe tbody tr th {\n",
       "        vertical-align: top;\n",
       "    }\n",
       "\n",
       "    .dataframe thead th {\n",
       "        text-align: right;\n",
       "    }\n",
       "</style>\n",
       "<table border=\"1\" class=\"dataframe\">\n",
       "  <thead>\n",
       "    <tr style=\"text-align: right;\">\n",
       "      <th></th>\n",
       "      <th>Time</th>\n",
       "      <th>CO(GT)</th>\n",
       "      <th>PT08.S1(CO)</th>\n",
       "      <th>NMHC(GT)</th>\n",
       "      <th>C6H6(GT)</th>\n",
       "      <th>PT08.S2(NMHC)</th>\n",
       "      <th>NOx(GT)</th>\n",
       "      <th>PT08.S3(NOx)</th>\n",
       "      <th>NO2(GT)</th>\n",
       "      <th>PT08.S4(NO2)</th>\n",
       "      <th>PT08.S5(O3)</th>\n",
       "      <th>T</th>\n",
       "      <th>RH</th>\n",
       "      <th>AH</th>\n",
       "    </tr>\n",
       "    <tr>\n",
       "      <th>Date</th>\n",
       "      <th></th>\n",
       "      <th></th>\n",
       "      <th></th>\n",
       "      <th></th>\n",
       "      <th></th>\n",
       "      <th></th>\n",
       "      <th></th>\n",
       "      <th></th>\n",
       "      <th></th>\n",
       "      <th></th>\n",
       "      <th></th>\n",
       "      <th></th>\n",
       "      <th></th>\n",
       "      <th></th>\n",
       "    </tr>\n",
       "  </thead>\n",
       "  <tbody>\n",
       "    <tr>\n",
       "      <th>2004-03-10</th>\n",
       "      <td>18:00:00</td>\n",
       "      <td>2.6</td>\n",
       "      <td>1360.00</td>\n",
       "      <td>150</td>\n",
       "      <td>11.881723</td>\n",
       "      <td>1045.50</td>\n",
       "      <td>166.0</td>\n",
       "      <td>1056.25</td>\n",
       "      <td>113.0</td>\n",
       "      <td>1692.00</td>\n",
       "      <td>1267.50</td>\n",
       "      <td>13.60</td>\n",
       "      <td>48.875001</td>\n",
       "      <td>0.757754</td>\n",
       "    </tr>\n",
       "    <tr>\n",
       "      <th>2004-03-10</th>\n",
       "      <td>19:00:00</td>\n",
       "      <td>2.0</td>\n",
       "      <td>1292.25</td>\n",
       "      <td>112</td>\n",
       "      <td>9.397165</td>\n",
       "      <td>954.75</td>\n",
       "      <td>103.0</td>\n",
       "      <td>1173.75</td>\n",
       "      <td>92.0</td>\n",
       "      <td>1558.75</td>\n",
       "      <td>972.25</td>\n",
       "      <td>13.30</td>\n",
       "      <td>47.700000</td>\n",
       "      <td>0.725487</td>\n",
       "    </tr>\n",
       "    <tr>\n",
       "      <th>2004-03-10</th>\n",
       "      <td>20:00:00</td>\n",
       "      <td>2.2</td>\n",
       "      <td>1402.00</td>\n",
       "      <td>88</td>\n",
       "      <td>8.997817</td>\n",
       "      <td>939.25</td>\n",
       "      <td>131.0</td>\n",
       "      <td>1140.00</td>\n",
       "      <td>114.0</td>\n",
       "      <td>1554.50</td>\n",
       "      <td>1074.00</td>\n",
       "      <td>11.90</td>\n",
       "      <td>53.975000</td>\n",
       "      <td>0.750239</td>\n",
       "    </tr>\n",
       "    <tr>\n",
       "      <th>2004-03-10</th>\n",
       "      <td>21:00:00</td>\n",
       "      <td>2.2</td>\n",
       "      <td>1375.50</td>\n",
       "      <td>80</td>\n",
       "      <td>9.228796</td>\n",
       "      <td>948.25</td>\n",
       "      <td>172.0</td>\n",
       "      <td>1092.00</td>\n",
       "      <td>122.0</td>\n",
       "      <td>1583.75</td>\n",
       "      <td>1203.25</td>\n",
       "      <td>11.00</td>\n",
       "      <td>60.000000</td>\n",
       "      <td>0.786713</td>\n",
       "    </tr>\n",
       "    <tr>\n",
       "      <th>2004-03-10</th>\n",
       "      <td>22:00:00</td>\n",
       "      <td>1.6</td>\n",
       "      <td>1272.25</td>\n",
       "      <td>51</td>\n",
       "      <td>6.518224</td>\n",
       "      <td>835.50</td>\n",
       "      <td>131.0</td>\n",
       "      <td>1205.00</td>\n",
       "      <td>116.0</td>\n",
       "      <td>1490.00</td>\n",
       "      <td>1110.00</td>\n",
       "      <td>11.15</td>\n",
       "      <td>59.575001</td>\n",
       "      <td>0.788794</td>\n",
       "    </tr>\n",
       "  </tbody>\n",
       "</table>\n",
       "</div>"
      ],
      "text/plain": [
       "                Time  CO(GT)  PT08.S1(CO)  NMHC(GT)   C6H6(GT)  PT08.S2(NMHC)  \\\n",
       "Date                                                                            \n",
       "2004-03-10  18:00:00     2.6      1360.00       150  11.881723        1045.50   \n",
       "2004-03-10  19:00:00     2.0      1292.25       112   9.397165         954.75   \n",
       "2004-03-10  20:00:00     2.2      1402.00        88   8.997817         939.25   \n",
       "2004-03-10  21:00:00     2.2      1375.50        80   9.228796         948.25   \n",
       "2004-03-10  22:00:00     1.6      1272.25        51   6.518224         835.50   \n",
       "\n",
       "            NOx(GT)  PT08.S3(NOx)  NO2(GT)  PT08.S4(NO2)  PT08.S5(O3)      T  \\\n",
       "Date                                                                           \n",
       "2004-03-10    166.0       1056.25    113.0       1692.00      1267.50  13.60   \n",
       "2004-03-10    103.0       1173.75     92.0       1558.75       972.25  13.30   \n",
       "2004-03-10    131.0       1140.00    114.0       1554.50      1074.00  11.90   \n",
       "2004-03-10    172.0       1092.00    122.0       1583.75      1203.25  11.00   \n",
       "2004-03-10    131.0       1205.00    116.0       1490.00      1110.00  11.15   \n",
       "\n",
       "                   RH        AH  \n",
       "Date                             \n",
       "2004-03-10  48.875001  0.757754  \n",
       "2004-03-10  47.700000  0.725487  \n",
       "2004-03-10  53.975000  0.750239  \n",
       "2004-03-10  60.000000  0.786713  \n",
       "2004-03-10  59.575001  0.788794  "
      ]
     },
     "execution_count": 103,
     "metadata": {},
     "output_type": "execute_result"
    }
   ],
   "source": [
    "url = 'https://tscookbook.s3.amazonaws.com/AirQualityUCI.xlsx'\n",
    "\n",
    "df = pd.read_excel(url,\n",
    "                   index_col='Date',\n",
    "                   parse_dates=True)\n",
    "df.head()"
   ]
  },
  {
   "cell_type": "markdown",
   "id": "c8ebe816-e7f4-4adf-afbb-9c8fc465ee75",
   "metadata": {},
   "source": [
    "**Accessing a bucket using S3://**"
   ]
  },
  {
   "cell_type": "code",
   "execution_count": 105,
   "id": "7b1df5c3-713b-4b2a-9fc6-0e561e418de7",
   "metadata": {},
   "outputs": [
    {
     "data": {
      "text/html": [
       "<div>\n",
       "<style scoped>\n",
       "    .dataframe tbody tr th:only-of-type {\n",
       "        vertical-align: middle;\n",
       "    }\n",
       "\n",
       "    .dataframe tbody tr th {\n",
       "        vertical-align: top;\n",
       "    }\n",
       "\n",
       "    .dataframe thead th {\n",
       "        text-align: right;\n",
       "    }\n",
       "</style>\n",
       "<table border=\"1\" class=\"dataframe\">\n",
       "  <thead>\n",
       "    <tr style=\"text-align: right;\">\n",
       "      <th></th>\n",
       "      <th>Time</th>\n",
       "      <th>CO(GT)</th>\n",
       "      <th>PT08.S1(CO)</th>\n",
       "      <th>NMHC(GT)</th>\n",
       "      <th>C6H6(GT)</th>\n",
       "      <th>PT08.S2(NMHC)</th>\n",
       "      <th>NOx(GT)</th>\n",
       "      <th>PT08.S3(NOx)</th>\n",
       "      <th>NO2(GT)</th>\n",
       "      <th>PT08.S4(NO2)</th>\n",
       "      <th>PT08.S5(O3)</th>\n",
       "      <th>T</th>\n",
       "      <th>RH</th>\n",
       "      <th>AH</th>\n",
       "    </tr>\n",
       "    <tr>\n",
       "      <th>Date</th>\n",
       "      <th></th>\n",
       "      <th></th>\n",
       "      <th></th>\n",
       "      <th></th>\n",
       "      <th></th>\n",
       "      <th></th>\n",
       "      <th></th>\n",
       "      <th></th>\n",
       "      <th></th>\n",
       "      <th></th>\n",
       "      <th></th>\n",
       "      <th></th>\n",
       "      <th></th>\n",
       "      <th></th>\n",
       "    </tr>\n",
       "  </thead>\n",
       "  <tbody>\n",
       "    <tr>\n",
       "      <th>2004-03-10</th>\n",
       "      <td>18:00:00</td>\n",
       "      <td>2.6</td>\n",
       "      <td>1360.00</td>\n",
       "      <td>150</td>\n",
       "      <td>11.881723</td>\n",
       "      <td>1045.50</td>\n",
       "      <td>166.0</td>\n",
       "      <td>1056.25</td>\n",
       "      <td>113.0</td>\n",
       "      <td>1692.00</td>\n",
       "      <td>1267.50</td>\n",
       "      <td>13.60</td>\n",
       "      <td>48.875001</td>\n",
       "      <td>0.757754</td>\n",
       "    </tr>\n",
       "    <tr>\n",
       "      <th>2004-03-10</th>\n",
       "      <td>19:00:00</td>\n",
       "      <td>2.0</td>\n",
       "      <td>1292.25</td>\n",
       "      <td>112</td>\n",
       "      <td>9.397165</td>\n",
       "      <td>954.75</td>\n",
       "      <td>103.0</td>\n",
       "      <td>1173.75</td>\n",
       "      <td>92.0</td>\n",
       "      <td>1558.75</td>\n",
       "      <td>972.25</td>\n",
       "      <td>13.30</td>\n",
       "      <td>47.700000</td>\n",
       "      <td>0.725487</td>\n",
       "    </tr>\n",
       "    <tr>\n",
       "      <th>2004-03-10</th>\n",
       "      <td>20:00:00</td>\n",
       "      <td>2.2</td>\n",
       "      <td>1402.00</td>\n",
       "      <td>88</td>\n",
       "      <td>8.997817</td>\n",
       "      <td>939.25</td>\n",
       "      <td>131.0</td>\n",
       "      <td>1140.00</td>\n",
       "      <td>114.0</td>\n",
       "      <td>1554.50</td>\n",
       "      <td>1074.00</td>\n",
       "      <td>11.90</td>\n",
       "      <td>53.975000</td>\n",
       "      <td>0.750239</td>\n",
       "    </tr>\n",
       "    <tr>\n",
       "      <th>2004-03-10</th>\n",
       "      <td>21:00:00</td>\n",
       "      <td>2.2</td>\n",
       "      <td>1375.50</td>\n",
       "      <td>80</td>\n",
       "      <td>9.228796</td>\n",
       "      <td>948.25</td>\n",
       "      <td>172.0</td>\n",
       "      <td>1092.00</td>\n",
       "      <td>122.0</td>\n",
       "      <td>1583.75</td>\n",
       "      <td>1203.25</td>\n",
       "      <td>11.00</td>\n",
       "      <td>60.000000</td>\n",
       "      <td>0.786713</td>\n",
       "    </tr>\n",
       "    <tr>\n",
       "      <th>2004-03-10</th>\n",
       "      <td>22:00:00</td>\n",
       "      <td>1.6</td>\n",
       "      <td>1272.25</td>\n",
       "      <td>51</td>\n",
       "      <td>6.518224</td>\n",
       "      <td>835.50</td>\n",
       "      <td>131.0</td>\n",
       "      <td>1205.00</td>\n",
       "      <td>116.0</td>\n",
       "      <td>1490.00</td>\n",
       "      <td>1110.00</td>\n",
       "      <td>11.15</td>\n",
       "      <td>59.575001</td>\n",
       "      <td>0.788794</td>\n",
       "    </tr>\n",
       "  </tbody>\n",
       "</table>\n",
       "</div>"
      ],
      "text/plain": [
       "                Time  CO(GT)  PT08.S1(CO)  NMHC(GT)   C6H6(GT)  PT08.S2(NMHC)  \\\n",
       "Date                                                                            \n",
       "2004-03-10  18:00:00     2.6      1360.00       150  11.881723        1045.50   \n",
       "2004-03-10  19:00:00     2.0      1292.25       112   9.397165         954.75   \n",
       "2004-03-10  20:00:00     2.2      1402.00        88   8.997817         939.25   \n",
       "2004-03-10  21:00:00     2.2      1375.50        80   9.228796         948.25   \n",
       "2004-03-10  22:00:00     1.6      1272.25        51   6.518224         835.50   \n",
       "\n",
       "            NOx(GT)  PT08.S3(NOx)  NO2(GT)  PT08.S4(NO2)  PT08.S5(O3)      T  \\\n",
       "Date                                                                           \n",
       "2004-03-10    166.0       1056.25    113.0       1692.00      1267.50  13.60   \n",
       "2004-03-10    103.0       1173.75     92.0       1558.75       972.25  13.30   \n",
       "2004-03-10    131.0       1140.00    114.0       1554.50      1074.00  11.90   \n",
       "2004-03-10    172.0       1092.00    122.0       1583.75      1203.25  11.00   \n",
       "2004-03-10    131.0       1205.00    116.0       1490.00      1110.00  11.15   \n",
       "\n",
       "                   RH        AH  \n",
       "Date                             \n",
       "2004-03-10  48.875001  0.757754  \n",
       "2004-03-10  47.700000  0.725487  \n",
       "2004-03-10  53.975000  0.750239  \n",
       "2004-03-10  60.000000  0.786713  \n",
       "2004-03-10  59.575001  0.788794  "
      ]
     },
     "execution_count": 105,
     "metadata": {},
     "output_type": "execute_result"
    }
   ],
   "source": [
    "url = 's3://tscookbook/AirQualityUCI.xlsx'\n",
    "df = pd.read_excel(url,\n",
    "                   index_col='Date',\n",
    "                   parse_dates=True)\n",
    "df.head()"
   ]
  },
  {
   "cell_type": "code",
   "execution_count": 249,
   "id": "18369889-8b01-454b-ab18-89be36de8a56",
   "metadata": {},
   "outputs": [
    {
     "name": "stdout",
     "output_type": "stream",
     "text": [
      "                Time  CO(GT)  PT08.S1(CO)  NMHC(GT)   C6H6(GT)\n",
      "Date                                                          \n",
      "2004-03-10  18:00:00     2.6      1360.00       150  11.881723\n",
      "2004-03-10  19:00:00     2.0      1292.25       112   9.397165\n",
      "2004-03-10  20:00:00     2.2      1402.00        88   8.997817\n",
      "2004-03-10  21:00:00     2.2      1375.50        80   9.228796\n",
      "2004-03-10  22:00:00     1.6      1272.25        51   6.518224\n"
     ]
    }
   ],
   "source": [
    "print(df.iloc[:5, 0:5])"
   ]
  },
  {
   "cell_type": "markdown",
   "id": "d8c309b7-04e4-4927-8eab-7e4b5d418073",
   "metadata": {},
   "source": [
    "## Reading from Private S3 Bucket"
   ]
  },
  {
   "cell_type": "code",
   "execution_count": 251,
   "id": "49554931-8e56-41f9-b2b0-75b6a3525ad8",
   "metadata": {},
   "outputs": [],
   "source": [
    "import configparser\n",
    "config = configparser.ConfigParser()\n",
    "config.read('aws.cfg')\n",
    "\n",
    "AWS_ACCESS_KEY = config['AWS']['aws_access_key']\n",
    "AWS_SECRET_KEY = config['AWS']['aws_secret_key']\n"
   ]
  },
  {
   "cell_type": "code",
   "execution_count": 253,
   "id": "c1c7e356-0392-495f-bbd1-21a7473cc6c3",
   "metadata": {},
   "outputs": [],
   "source": [
    "s3uri = \"s3://tscookbook-private/AirQuality.csv\"\n",
    "\n",
    "df = pd.read_csv(s3uri,\n",
    "                 index_col='Date',\n",
    "                 parse_dates=True,\n",
    "                 storage_options= {\n",
    "                         'key': AWS_ACCESS_KEY,\n",
    "                         'secret': AWS_SECRET_KEY\n",
    "                     })"
   ]
  },
  {
   "cell_type": "code",
   "execution_count": 254,
   "id": "c54f4a41-0f5f-4abb-ba30-06fbe95d6dd1",
   "metadata": {},
   "outputs": [
    {
     "name": "stdout",
     "output_type": "stream",
     "text": [
      "                Time CO(GT)  PT08.S1(CO)  NMHC(GT) C6H6(GT)\n",
      "Date                                                       \n",
      "2004-10-03  18.00.00    2,6       1360.0     150.0     11,9\n",
      "2004-10-03  19.00.00      2       1292.0     112.0      9,4\n",
      "2004-10-03  20.00.00    2,2       1402.0      88.0      9,0\n",
      "2004-10-03  21.00.00    2,2       1376.0      80.0      9,2\n",
      "2004-10-03  22.00.00    1,6       1272.0      51.0      6,5\n"
     ]
    }
   ],
   "source": [
    "print(df.iloc[:5, 0:5])"
   ]
  },
  {
   "cell_type": "markdown",
   "id": "e0fc2f8d-e263-4813-ac0d-3c8db9c2765b",
   "metadata": {},
   "source": [
    "**Using BOTO3**"
   ]
  },
  {
   "cell_type": "code",
   "execution_count": 257,
   "id": "0c750b74-e5b2-48ce-88a4-bdbbe83d01ae",
   "metadata": {},
   "outputs": [],
   "source": [
    "import boto3\n",
    "bucket = \"tscookbook-private\"\n",
    "client = boto3.client(\"s3\",\n",
    "                  aws_access_key_id =AWS_ACCESS_KEY,\n",
    "                  aws_secret_access_key = AWS_SECRET_KEY)\n"
   ]
  },
  {
   "cell_type": "code",
   "execution_count": 259,
   "id": "8762706c-d5d4-4041-9842-f62d383cd700",
   "metadata": {},
   "outputs": [],
   "source": [
    "data = client.get_object(Bucket=bucket, Key='AirQuality.csv')"
   ]
  },
  {
   "cell_type": "code",
   "execution_count": 267,
   "id": "978f708d-7abb-463f-9f12-e32898efc5dc",
   "metadata": {},
   "outputs": [
    {
     "data": {
      "text/plain": [
       "{'ResponseMetadata': {'RequestId': 'RFWR5VGCWQJQST96',\n",
       "  'HostId': '7wZ/7Tkr9fc4NHpFFqQ2ETYl20MUkUpWs4YUyAA46DLxR4FbX0RDzcI9S8FbN8mr9N9TbiLD6Cw=',\n",
       "  'HTTPStatusCode': 200,\n",
       "  'HTTPHeaders': {'x-amz-id-2': '7wZ/7Tkr9fc4NHpFFqQ2ETYl20MUkUpWs4YUyAA46DLxR4FbX0RDzcI9S8FbN8mr9N9TbiLD6Cw=',\n",
       "   'x-amz-request-id': 'RFWR5VGCWQJQST96',\n",
       "   'date': 'Tue, 03 Dec 2024 19:12:52 GMT',\n",
       "   'last-modified': 'Mon, 14 Jun 2021 01:13:05 GMT',\n",
       "   'etag': '\"2ce337accfeb2dbbc6b76833bc6f84b8\"',\n",
       "   'accept-ranges': 'bytes',\n",
       "   'content-type': 'binary/octet-stream',\n",
       "   'content-length': '1012427',\n",
       "   'server': 'AmazonS3'},\n",
       "  'RetryAttempts': 0},\n",
       " 'AcceptRanges': 'bytes',\n",
       " 'LastModified': datetime.datetime(2021, 6, 14, 1, 13, 5, tzinfo=tzutc()),\n",
       " 'ContentLength': 1012427,\n",
       " 'ETag': '\"2ce337accfeb2dbbc6b76833bc6f84b8\"',\n",
       " 'ContentType': 'binary/octet-stream',\n",
       " 'Metadata': {},\n",
       " 'Body': <botocore.response.StreamingBody at 0x153758970>}"
      ]
     },
     "execution_count": 267,
     "metadata": {},
     "output_type": "execute_result"
    }
   ],
   "source": [
    "data"
   ]
  },
  {
   "cell_type": "code",
   "execution_count": 260,
   "id": "def4c0f7-c78f-4380-8f18-5dfcf3058759",
   "metadata": {},
   "outputs": [
    {
     "data": {
      "text/plain": [
       "dict_keys(['ResponseMetadata', 'AcceptRanges', 'LastModified', 'ContentLength', 'ETag', 'ContentType', 'Metadata', 'Body'])"
      ]
     },
     "execution_count": 260,
     "metadata": {},
     "output_type": "execute_result"
    }
   ],
   "source": [
    "data.keys()"
   ]
  },
  {
   "cell_type": "code",
   "execution_count": 263,
   "id": "3430d51c-07ff-46e9-9191-d3d747aa0ace",
   "metadata": {},
   "outputs": [],
   "source": [
    "df = pd.read_csv(data['Body'],\n",
    "                 index_col='Date',\n",
    "                 parse_dates=True)\n"
   ]
  },
  {
   "cell_type": "code",
   "execution_count": 265,
   "id": "9d42daf3-c1bf-4e93-9b5c-8ef86a815502",
   "metadata": {},
   "outputs": [
    {
     "name": "stdout",
     "output_type": "stream",
     "text": [
      "                Time CO(GT)  PT08.S1(CO)  NMHC(GT) C6H6(GT)\n",
      "Date                                                       \n",
      "2004-10-03  18.00.00    2,6       1360.0     150.0     11,9\n",
      "2004-10-03  19.00.00      2       1292.0     112.0      9,4\n",
      "2004-10-03  20.00.00    2,2       1402.0      88.0      9,0\n",
      "2004-10-03  21.00.00    2,2       1376.0      80.0      9,2\n",
      "2004-10-03  22.00.00    1,6       1272.0      51.0      6,5\n"
     ]
    }
   ],
   "source": [
    "print(df.iloc[:5, 0:5])"
   ]
  },
  {
   "cell_type": "markdown",
   "id": "2c968bed-9693-44e0-b537-feca8fb867bf",
   "metadata": {},
   "source": [
    "## Reading from HTML"
   ]
  },
  {
   "cell_type": "code",
   "execution_count": 107,
   "id": "66617f96-da7e-4a55-b480-d73e2609495f",
   "metadata": {},
   "outputs": [],
   "source": [
    "import pandas as pd"
   ]
  },
  {
   "cell_type": "code",
   "execution_count": 109,
   "id": "ae29ee75-aa23-47d6-80c4-a7cf64c1105d",
   "metadata": {},
   "outputs": [
    {
     "name": "stdout",
     "output_type": "stream",
     "text": [
      "68\n"
     ]
    }
   ],
   "source": [
    "url = \"https://en.wikipedia.org/wiki/COVID-19_pandemic_by_country_and_territory\"\n",
    "results = pd.read_html(url)\n",
    "print(len(results))\n"
   ]
  },
  {
   "cell_type": "code",
   "execution_count": 111,
   "id": "15dc2aae-add1-49e6-9e4f-ef5d61cd70fb",
   "metadata": {},
   "outputs": [],
   "source": [
    "# for i, k in enumerate(results):\n",
    "#     print(i)\n",
    "#     display(k.head())\n",
    "    "
   ]
  },
  {
   "cell_type": "code",
   "execution_count": 113,
   "id": "f414af1b-eb6d-48c6-81ff-b565dc7c276e",
   "metadata": {},
   "outputs": [
    {
     "data": {
      "text/plain": [
       "Index(['Region[30]', 'Total cases', 'Total deaths', 'Cases per million',\n",
       "       'Deaths per million', 'Current weekly cases', 'Current weekly deaths',\n",
       "       'Population millions', 'Vacci­nated %[31]'],\n",
       "      dtype='object')"
      ]
     },
     "execution_count": 113,
     "metadata": {},
     "output_type": "execute_result"
    }
   ],
   "source": [
    "df = results[15]\n",
    "df.columns"
   ]
  },
  {
   "cell_type": "code",
   "execution_count": 115,
   "id": "37776cd9-8f76-4118-accb-ddec1375364b",
   "metadata": {},
   "outputs": [
    {
     "name": "stdout",
     "output_type": "stream",
     "text": [
      "       Region[30]  Total cases  Total deaths  Cases per million\n",
      "0  European Union    179537758       1185108             401363\n",
      "1   North America    103783777       1133607             281404\n",
      "2    Other Europe     57721948        498259             247054\n"
     ]
    }
   ],
   "source": [
    "cols = ['Region[30]','Total cases', 'Total deaths', 'Cases per million']\n",
    "print(df[cols].head(3))"
   ]
  },
  {
   "cell_type": "markdown",
   "id": "8e5c18bb-b7e3-4d54-9338-9631f4dc4cbc",
   "metadata": {},
   "source": [
    "## Example how `read_html()` works"
   ]
  },
  {
   "cell_type": "code",
   "execution_count": 118,
   "id": "1a1d7bac-76b7-4a9a-9c42-3b3b9282ac81",
   "metadata": {},
   "outputs": [],
   "source": [
    "from io import StringIO\n",
    "import pandas as pd"
   ]
  },
  {
   "cell_type": "code",
   "execution_count": 120,
   "id": "2b53a57e-8a60-4a56-bfda-45c30e565d2a",
   "metadata": {},
   "outputs": [
    {
     "data": {
      "text/html": [
       "<div>\n",
       "<style scoped>\n",
       "    .dataframe tbody tr th:only-of-type {\n",
       "        vertical-align: middle;\n",
       "    }\n",
       "\n",
       "    .dataframe tbody tr th {\n",
       "        vertical-align: top;\n",
       "    }\n",
       "\n",
       "    .dataframe thead th {\n",
       "        text-align: right;\n",
       "    }\n",
       "</style>\n",
       "<table border=\"1\" class=\"dataframe\">\n",
       "  <thead>\n",
       "    <tr style=\"text-align: right;\">\n",
       "      <th></th>\n",
       "      <th>Ticker</th>\n",
       "      <th>Price</th>\n",
       "    </tr>\n",
       "  </thead>\n",
       "  <tbody>\n",
       "    <tr>\n",
       "      <th>0</th>\n",
       "      <td>MSFT</td>\n",
       "      <td>230</td>\n",
       "    </tr>\n",
       "    <tr>\n",
       "      <th>1</th>\n",
       "      <td>APPL</td>\n",
       "      <td>300</td>\n",
       "    </tr>\n",
       "    <tr>\n",
       "      <th>2</th>\n",
       "      <td>MSTR</td>\n",
       "      <td>120</td>\n",
       "    </tr>\n",
       "  </tbody>\n",
       "</table>\n",
       "</div>"
      ],
      "text/plain": [
       "  Ticker  Price\n",
       "0   MSFT    230\n",
       "1   APPL    300\n",
       "2   MSTR    120"
      ]
     },
     "execution_count": 120,
     "metadata": {},
     "output_type": "execute_result"
    }
   ],
   "source": [
    "html = \"\"\"\n",
    " <table>\n",
    "   <tr>\n",
    "     <th>Ticker</th>\n",
    "     <th>Price</th>\n",
    "   </tr>\n",
    "   <tr>\n",
    "     <td>MSFT</td>\n",
    "     <td>230</td>\n",
    "   </tr>\n",
    "   <tr>\n",
    "     <td>APPL</td>\n",
    "     <td>300</td>\n",
    "   </tr>\n",
    "     <tr>\n",
    "     <td>MSTR</td>\n",
    "     <td>120</td>\n",
    "   </tr>\n",
    " </table>\n",
    "\n",
    " </body>\n",
    " </html>\n",
    " \"\"\"\n",
    "\n",
    "df = pd.read_html(StringIO(html))\n",
    "df[0]\n"
   ]
  },
  {
   "cell_type": "markdown",
   "id": "23dab8d1-82fc-4c06-823e-203fcfb4290b",
   "metadata": {},
   "source": [
    "## There is more"
   ]
  },
  {
   "cell_type": "markdown",
   "id": "aae256fc-d806-4a18-af3d-9e61ca99060f",
   "metadata": {},
   "source": [
    "## Using `attr` option in `read.html()`"
   ]
  },
  {
   "cell_type": "code",
   "execution_count": 124,
   "id": "c87c19b8-4054-487c-8eac-038a2d8337e5",
   "metadata": {},
   "outputs": [],
   "source": [
    "#!conda install html5lib beautifulSoup4 -y"
   ]
  },
  {
   "cell_type": "code",
   "execution_count": 130,
   "id": "8f591292-b34a-4186-93ff-03a9b61a497c",
   "metadata": {},
   "outputs": [
    {
     "data": {
      "text/plain": [
       "5"
      ]
     },
     "execution_count": 130,
     "metadata": {},
     "output_type": "execute_result"
    }
   ],
   "source": [
    "import pandas as pd\n",
    "url = \"https://en.wikipedia.org/wiki/COVID-19_pandemic_by_country_and_territory\"\n",
    "df = pd.read_html(url, attrs={'class': 'sortable'})\n",
    "len(df)"
   ]
  },
  {
   "cell_type": "code",
   "execution_count": 132,
   "id": "60e2b0ab-30fc-47a1-9d94-650b7c5a72a9",
   "metadata": {},
   "outputs": [
    {
     "data": {
      "text/plain": [
       "Index(['Region[30]', 'Total cases', 'Total deaths', 'Cases per million',\n",
       "       'Deaths per million', 'Current weekly cases', 'Current weekly deaths',\n",
       "       'Population millions', 'Vacci­nated %[31]'],\n",
       "      dtype='object')"
      ]
     },
     "execution_count": 132,
     "metadata": {},
     "output_type": "execute_result"
    }
   ],
   "source": [
    "df[3].columns"
   ]
  },
  {
   "cell_type": "code",
   "execution_count": 134,
   "id": "080d390a-9653-4324-9fbe-53fa4bba9699",
   "metadata": {},
   "outputs": [],
   "source": [
    "# !conda install dask # install everything\n",
    "#!conda install dask-core # install only core parts of dash\n",
    "#!python -m pip install \"dask[complete]\"    # Install everything\n",
    "#!python -m pip install dask                # Install only core parts of dask"
   ]
  },
  {
   "cell_type": "markdown",
   "id": "6a208d71-df87-4ba8-99c0-8b4db18aa659",
   "metadata": {},
   "source": [
    "# Recipe 4 - Read data from Parquet files"
   ]
  },
  {
   "cell_type": "code",
   "execution_count": 137,
   "id": "005aa290-e4dd-4bef-91ed-f1fe264b5e41",
   "metadata": {},
   "outputs": [],
   "source": [
    "# !conda list pyarrow"
   ]
  },
  {
   "cell_type": "code",
   "execution_count": 139,
   "id": "41d03372-38d7-40c9-8e6d-f8702f2ace73",
   "metadata": {},
   "outputs": [],
   "source": [
    "#!conda install -c conda-forge pyarrow -y"
   ]
  },
  {
   "cell_type": "code",
   "execution_count": 141,
   "id": "84cd71d6-3650-4492-a4d0-27e441f7c139",
   "metadata": {},
   "outputs": [
    {
     "data": {
      "text/plain": [
       "'2.2.3'"
      ]
     },
     "execution_count": 141,
     "metadata": {},
     "output_type": "execute_result"
    }
   ],
   "source": [
    "import pandas as pd\n",
    "from pathlib import Path\n",
    "pd.__version__"
   ]
  },
  {
   "cell_type": "markdown",
   "id": "0d377768-6951-4ddc-b906-45df2514f34a",
   "metadata": {},
   "source": [
    "Reading the Parquet files"
   ]
  },
  {
   "cell_type": "code",
   "execution_count": 144,
   "id": "c95e198d-ac3c-4a59-acd5-aa1a7a131fb9",
   "metadata": {},
   "outputs": [],
   "source": [
    "file = Path('../../datasets/Ch2/LA_weather.parquet/')\n",
    "df = pd.read_parquet(file,\n",
    "                    engine='pyarrow')"
   ]
  },
  {
   "cell_type": "code",
   "execution_count": 146,
   "id": "4bc78725-641a-412d-9846-32ff1a07c996",
   "metadata": {},
   "outputs": [
    {
     "name": "stdout",
     "output_type": "stream",
     "text": [
      "<class 'pandas.core.frame.DataFrame'>\n",
      "RangeIndex: 4899 entries, 0 to 4898\n",
      "Data columns (total 17 columns):\n",
      " #   Column           Non-Null Count  Dtype         \n",
      "---  ------           --------------  -----         \n",
      " 0   STATION          4899 non-null   object        \n",
      " 1   NAME             4899 non-null   object        \n",
      " 2   DATE             4899 non-null   object        \n",
      " 3   PRCP             4899 non-null   float64       \n",
      " 4   PRCP_ATTRIBUTES  4899 non-null   object        \n",
      " 5   SNOW             121 non-null    float64       \n",
      " 6   SNOW_ATTRIBUTES  121 non-null    object        \n",
      " 7   SNWD             59 non-null     float64       \n",
      " 8   SNWD_ATTRIBUTES  59 non-null     object        \n",
      " 9   TAVG             3713 non-null   float64       \n",
      " 10  TAVG_ATTRIBUTES  3713 non-null   object        \n",
      " 11  TMAX             4899 non-null   int64         \n",
      " 12  TMAX_ATTRIBUTES  4899 non-null   object        \n",
      " 13  TMIN             4899 non-null   int64         \n",
      " 14  TMIN_ATTRIBUTES  4899 non-null   object        \n",
      " 15  DT               4899 non-null   datetime64[us]\n",
      " 16  year             4899 non-null   category      \n",
      "dtypes: category(1), datetime64[us](1), float64(4), int64(2), object(9)\n",
      "memory usage: 617.8+ KB\n"
     ]
    }
   ],
   "source": [
    "df.info()"
   ]
  },
  {
   "cell_type": "markdown",
   "id": "b437cfa1-bd94-4baa-b353-ab7d77d6cb39",
   "metadata": {},
   "source": [
    "Reading a specific partition for year 2012"
   ]
  },
  {
   "cell_type": "code",
   "execution_count": 149,
   "id": "e4a25755-c794-420f-a6f4-d88d90798c67",
   "metadata": {},
   "outputs": [],
   "source": [
    "filters = [('year', '==', 2012)]\n",
    "df_2012 = pd.read_parquet(file, \n",
    "                          engine='pyarrow', \n",
    "                          filters=filters)"
   ]
  },
  {
   "cell_type": "markdown",
   "id": "498026b1-e8da-4bda-b510-e85c116e3fa6",
   "metadata": {},
   "source": [
    "Filtering to read files for years > 2020"
   ]
  },
  {
   "cell_type": "code",
   "execution_count": 152,
   "id": "7d71d14d-cd3f-46f4-b5c2-600b4be1cad4",
   "metadata": {},
   "outputs": [
    {
     "name": "stdout",
     "output_type": "stream",
     "text": [
      "<class 'pandas.core.frame.DataFrame'>\n",
      "RangeIndex: 366 entries, 0 to 365\n",
      "Data columns (total 17 columns):\n",
      " #   Column           Non-Null Count  Dtype         \n",
      "---  ------           --------------  -----         \n",
      " 0   STATION          366 non-null    object        \n",
      " 1   NAME             366 non-null    object        \n",
      " 2   DATE             366 non-null    object        \n",
      " 3   PRCP             366 non-null    float64       \n",
      " 4   PRCP_ATTRIBUTES  366 non-null    object        \n",
      " 5   SNOW             0 non-null      float64       \n",
      " 6   SNOW_ATTRIBUTES  0 non-null      object        \n",
      " 7   SNWD             0 non-null      float64       \n",
      " 8   SNWD_ATTRIBUTES  0 non-null      object        \n",
      " 9   TAVG             0 non-null      float64       \n",
      " 10  TAVG_ATTRIBUTES  0 non-null      object        \n",
      " 11  TMAX             366 non-null    int64         \n",
      " 12  TMAX_ATTRIBUTES  366 non-null    object        \n",
      " 13  TMIN             366 non-null    int64         \n",
      " 14  TMIN_ATTRIBUTES  366 non-null    object        \n",
      " 15  DT               366 non-null    datetime64[us]\n",
      " 16  year             366 non-null    category      \n",
      "dtypes: category(1), datetime64[us](1), float64(4), int64(2), object(9)\n",
      "memory usage: 46.7+ KB\n"
     ]
    }
   ],
   "source": [
    "df_2012.info()"
   ]
  },
  {
   "cell_type": "code",
   "execution_count": 154,
   "id": "f6801eff-4a58-43d2-9905-ae4ab005277a",
   "metadata": {},
   "outputs": [
    {
     "name": "stdout",
     "output_type": "stream",
     "text": [
      "<class 'pandas.core.frame.DataFrame'>\n",
      "RangeIndex: 881 entries, 0 to 880\n",
      "Data columns (total 17 columns):\n",
      " #   Column           Non-Null Count  Dtype         \n",
      "---  ------           --------------  -----         \n",
      " 0   STATION          881 non-null    object        \n",
      " 1   NAME             881 non-null    object        \n",
      " 2   DATE             881 non-null    object        \n",
      " 3   PRCP             881 non-null    float64       \n",
      " 4   PRCP_ATTRIBUTES  881 non-null    object        \n",
      " 5   SNOW             0 non-null      float64       \n",
      " 6   SNOW_ATTRIBUTES  0 non-null      object        \n",
      " 7   SNWD             0 non-null      float64       \n",
      " 8   SNWD_ATTRIBUTES  0 non-null      object        \n",
      " 9   TAVG             881 non-null    float64       \n",
      " 10  TAVG_ATTRIBUTES  881 non-null    object        \n",
      " 11  TMAX             881 non-null    int64         \n",
      " 12  TMAX_ATTRIBUTES  881 non-null    object        \n",
      " 13  TMIN             881 non-null    int64         \n",
      " 14  TMIN_ATTRIBUTES  881 non-null    object        \n",
      " 15  DT               881 non-null    datetime64[us]\n",
      " 16  year             881 non-null    category      \n",
      "dtypes: category(1), datetime64[us](1), float64(4), int64(2), object(9)\n",
      "memory usage: 111.6+ KB\n"
     ]
    }
   ],
   "source": [
    "filters = [('year', '>', 2020)]\n",
    "\n",
    "df = pd.read_parquet(file, \n",
    "                     engine='pyarrow', \n",
    "                     filters=filters)\n",
    "df.info()"
   ]
  },
  {
   "cell_type": "code",
   "execution_count": 156,
   "id": "a26acc64-4a79-4e47-b552-1ba4c9a0947e",
   "metadata": {},
   "outputs": [
    {
     "name": "stdout",
     "output_type": "stream",
     "text": [
      "<class 'pandas.core.frame.DataFrame'>\n",
      "RangeIndex: 881 entries, 0 to 880\n",
      "Data columns (total 17 columns):\n",
      " #   Column           Non-Null Count  Dtype         \n",
      "---  ------           --------------  -----         \n",
      " 0   STATION          881 non-null    object        \n",
      " 1   NAME             881 non-null    object        \n",
      " 2   DATE             881 non-null    object        \n",
      " 3   PRCP             881 non-null    float64       \n",
      " 4   PRCP_ATTRIBUTES  881 non-null    object        \n",
      " 5   SNOW             0 non-null      float64       \n",
      " 6   SNOW_ATTRIBUTES  0 non-null      object        \n",
      " 7   SNWD             0 non-null      float64       \n",
      " 8   SNWD_ATTRIBUTES  0 non-null      object        \n",
      " 9   TAVG             881 non-null    float64       \n",
      " 10  TAVG_ATTRIBUTES  881 non-null    object        \n",
      " 11  TMAX             881 non-null    int64         \n",
      " 12  TMAX_ATTRIBUTES  881 non-null    object        \n",
      " 13  TMIN             881 non-null    int64         \n",
      " 14  TMIN_ATTRIBUTES  881 non-null    object        \n",
      " 15  DT               881 non-null    datetime64[us]\n",
      " 16  year             881 non-null    category      \n",
      "dtypes: category(1), datetime64[us](1), float64(4), int64(2), object(9)\n",
      "memory usage: 111.6+ KB\n"
     ]
    }
   ],
   "source": [
    "filters = [('year', '>=', 2021)]\n",
    "pd.read_parquet(file, \n",
    "                engine='pyarrow', \n",
    "                filters= filters).info()"
   ]
  },
  {
   "cell_type": "code",
   "execution_count": 158,
   "id": "078e9732-6ca4-47f3-a563-222c861fa480",
   "metadata": {},
   "outputs": [
    {
     "name": "stdout",
     "output_type": "stream",
     "text": [
      "<class 'pandas.core.frame.DataFrame'>\n",
      "RangeIndex: 881 entries, 0 to 880\n",
      "Data columns (total 17 columns):\n",
      " #   Column           Non-Null Count  Dtype         \n",
      "---  ------           --------------  -----         \n",
      " 0   STATION          881 non-null    object        \n",
      " 1   NAME             881 non-null    object        \n",
      " 2   DATE             881 non-null    object        \n",
      " 3   PRCP             881 non-null    float64       \n",
      " 4   PRCP_ATTRIBUTES  881 non-null    object        \n",
      " 5   SNOW             0 non-null      float64       \n",
      " 6   SNOW_ATTRIBUTES  0 non-null      object        \n",
      " 7   SNWD             0 non-null      float64       \n",
      " 8   SNWD_ATTRIBUTES  0 non-null      object        \n",
      " 9   TAVG             881 non-null    float64       \n",
      " 10  TAVG_ATTRIBUTES  881 non-null    object        \n",
      " 11  TMAX             881 non-null    int64         \n",
      " 12  TMAX_ATTRIBUTES  881 non-null    object        \n",
      " 13  TMIN             881 non-null    int64         \n",
      " 14  TMIN_ATTRIBUTES  881 non-null    object        \n",
      " 15  DT               881 non-null    datetime64[us]\n",
      " 16  year             881 non-null    category      \n",
      "dtypes: category(1), datetime64[us](1), float64(4), int64(2), object(9)\n",
      "memory usage: 111.6+ KB\n"
     ]
    }
   ],
   "source": [
    "filters = [('year', 'in', [2021, 2022, 2023])]\n",
    "df = pd.read_parquet(file, \n",
    "                     engine='pyarrow', \n",
    "                     filters=filters)\n",
    "df.info()"
   ]
  },
  {
   "cell_type": "code",
   "execution_count": 160,
   "id": "67c65c69-344d-4a22-b1c7-98844b734f2f",
   "metadata": {},
   "outputs": [
    {
     "data": {
      "text/html": [
       "<div>\n",
       "<style scoped>\n",
       "    .dataframe tbody tr th:only-of-type {\n",
       "        vertical-align: middle;\n",
       "    }\n",
       "\n",
       "    .dataframe tbody tr th {\n",
       "        vertical-align: top;\n",
       "    }\n",
       "\n",
       "    .dataframe thead th {\n",
       "        text-align: right;\n",
       "    }\n",
       "</style>\n",
       "<table border=\"1\" class=\"dataframe\">\n",
       "  <thead>\n",
       "    <tr style=\"text-align: right;\">\n",
       "      <th></th>\n",
       "      <th>STATION</th>\n",
       "      <th>NAME</th>\n",
       "      <th>DATE</th>\n",
       "      <th>PRCP</th>\n",
       "      <th>PRCP_ATTRIBUTES</th>\n",
       "      <th>SNOW</th>\n",
       "      <th>SNOW_ATTRIBUTES</th>\n",
       "      <th>SNWD</th>\n",
       "      <th>SNWD_ATTRIBUTES</th>\n",
       "      <th>TAVG</th>\n",
       "      <th>TAVG_ATTRIBUTES</th>\n",
       "      <th>TMAX</th>\n",
       "      <th>TMAX_ATTRIBUTES</th>\n",
       "      <th>TMIN</th>\n",
       "      <th>TMIN_ATTRIBUTES</th>\n",
       "      <th>DT</th>\n",
       "      <th>year</th>\n",
       "    </tr>\n",
       "  </thead>\n",
       "  <tbody>\n",
       "    <tr>\n",
       "      <th>0</th>\n",
       "      <td>USW00023174</td>\n",
       "      <td>LOS ANGELES INTERNATIONAL AIRPORT, CA US</td>\n",
       "      <td>2021-01-01</td>\n",
       "      <td>0.0</td>\n",
       "      <td>,,W,2400</td>\n",
       "      <td>NaN</td>\n",
       "      <td>None</td>\n",
       "      <td>NaN</td>\n",
       "      <td>None</td>\n",
       "      <td>57.0</td>\n",
       "      <td>H,,S</td>\n",
       "      <td>67</td>\n",
       "      <td>,,W</td>\n",
       "      <td>43</td>\n",
       "      <td>,,W</td>\n",
       "      <td>2021-01-01</td>\n",
       "      <td>2021</td>\n",
       "    </tr>\n",
       "    <tr>\n",
       "      <th>1</th>\n",
       "      <td>USW00023174</td>\n",
       "      <td>LOS ANGELES INTERNATIONAL AIRPORT, CA US</td>\n",
       "      <td>2021-01-02</td>\n",
       "      <td>0.0</td>\n",
       "      <td>,,W,2400</td>\n",
       "      <td>NaN</td>\n",
       "      <td>None</td>\n",
       "      <td>NaN</td>\n",
       "      <td>None</td>\n",
       "      <td>54.0</td>\n",
       "      <td>H,,S</td>\n",
       "      <td>63</td>\n",
       "      <td>,,W</td>\n",
       "      <td>46</td>\n",
       "      <td>,,W</td>\n",
       "      <td>2021-01-02</td>\n",
       "      <td>2021</td>\n",
       "    </tr>\n",
       "    <tr>\n",
       "      <th>2</th>\n",
       "      <td>USW00023174</td>\n",
       "      <td>LOS ANGELES INTERNATIONAL AIRPORT, CA US</td>\n",
       "      <td>2021-01-03</td>\n",
       "      <td>0.0</td>\n",
       "      <td>,,W,2400</td>\n",
       "      <td>NaN</td>\n",
       "      <td>None</td>\n",
       "      <td>NaN</td>\n",
       "      <td>None</td>\n",
       "      <td>54.0</td>\n",
       "      <td>H,,S</td>\n",
       "      <td>62</td>\n",
       "      <td>,,W</td>\n",
       "      <td>49</td>\n",
       "      <td>,,W</td>\n",
       "      <td>2021-01-03</td>\n",
       "      <td>2021</td>\n",
       "    </tr>\n",
       "    <tr>\n",
       "      <th>3</th>\n",
       "      <td>USW00023174</td>\n",
       "      <td>LOS ANGELES INTERNATIONAL AIRPORT, CA US</td>\n",
       "      <td>2021-01-04</td>\n",
       "      <td>0.0</td>\n",
       "      <td>,,W,2400</td>\n",
       "      <td>NaN</td>\n",
       "      <td>None</td>\n",
       "      <td>NaN</td>\n",
       "      <td>None</td>\n",
       "      <td>54.0</td>\n",
       "      <td>H,,S</td>\n",
       "      <td>59</td>\n",
       "      <td>,,W</td>\n",
       "      <td>48</td>\n",
       "      <td>,,W</td>\n",
       "      <td>2021-01-04</td>\n",
       "      <td>2021</td>\n",
       "    </tr>\n",
       "    <tr>\n",
       "      <th>4</th>\n",
       "      <td>USW00023174</td>\n",
       "      <td>LOS ANGELES INTERNATIONAL AIRPORT, CA US</td>\n",
       "      <td>2021-01-05</td>\n",
       "      <td>0.0</td>\n",
       "      <td>,,W,2400</td>\n",
       "      <td>NaN</td>\n",
       "      <td>None</td>\n",
       "      <td>NaN</td>\n",
       "      <td>None</td>\n",
       "      <td>54.0</td>\n",
       "      <td>H,,S</td>\n",
       "      <td>57</td>\n",
       "      <td>,,W</td>\n",
       "      <td>50</td>\n",
       "      <td>,,W</td>\n",
       "      <td>2021-01-05</td>\n",
       "      <td>2021</td>\n",
       "    </tr>\n",
       "  </tbody>\n",
       "</table>\n",
       "</div>"
      ],
      "text/plain": [
       "       STATION                                      NAME        DATE  PRCP  \\\n",
       "0  USW00023174  LOS ANGELES INTERNATIONAL AIRPORT, CA US  2021-01-01   0.0   \n",
       "1  USW00023174  LOS ANGELES INTERNATIONAL AIRPORT, CA US  2021-01-02   0.0   \n",
       "2  USW00023174  LOS ANGELES INTERNATIONAL AIRPORT, CA US  2021-01-03   0.0   \n",
       "3  USW00023174  LOS ANGELES INTERNATIONAL AIRPORT, CA US  2021-01-04   0.0   \n",
       "4  USW00023174  LOS ANGELES INTERNATIONAL AIRPORT, CA US  2021-01-05   0.0   \n",
       "\n",
       "  PRCP_ATTRIBUTES  SNOW SNOW_ATTRIBUTES  SNWD SNWD_ATTRIBUTES  TAVG  \\\n",
       "0        ,,W,2400   NaN            None   NaN            None  57.0   \n",
       "1        ,,W,2400   NaN            None   NaN            None  54.0   \n",
       "2        ,,W,2400   NaN            None   NaN            None  54.0   \n",
       "3        ,,W,2400   NaN            None   NaN            None  54.0   \n",
       "4        ,,W,2400   NaN            None   NaN            None  54.0   \n",
       "\n",
       "  TAVG_ATTRIBUTES  TMAX TMAX_ATTRIBUTES  TMIN TMIN_ATTRIBUTES         DT  year  \n",
       "0            H,,S    67             ,,W    43             ,,W 2021-01-01  2021  \n",
       "1            H,,S    63             ,,W    46             ,,W 2021-01-02  2021  \n",
       "2            H,,S    62             ,,W    49             ,,W 2021-01-03  2021  \n",
       "3            H,,S    59             ,,W    48             ,,W 2021-01-04  2021  \n",
       "4            H,,S    57             ,,W    50             ,,W 2021-01-05  2021  "
      ]
     },
     "execution_count": 160,
     "metadata": {},
     "output_type": "execute_result"
    }
   ],
   "source": [
    "df.head()"
   ]
  },
  {
   "cell_type": "code",
   "execution_count": 162,
   "id": "41e5104d-5f15-4df7-bebf-7bb96828be84",
   "metadata": {},
   "outputs": [
    {
     "data": {
      "text/html": [
       "<div>\n",
       "<style scoped>\n",
       "    .dataframe tbody tr th:only-of-type {\n",
       "        vertical-align: middle;\n",
       "    }\n",
       "\n",
       "    .dataframe tbody tr th {\n",
       "        vertical-align: top;\n",
       "    }\n",
       "\n",
       "    .dataframe thead th {\n",
       "        text-align: right;\n",
       "    }\n",
       "</style>\n",
       "<table border=\"1\" class=\"dataframe\">\n",
       "  <thead>\n",
       "    <tr style=\"text-align: right;\">\n",
       "      <th></th>\n",
       "      <th>DATE</th>\n",
       "      <th>year</th>\n",
       "      <th>TMAX</th>\n",
       "    </tr>\n",
       "  </thead>\n",
       "  <tbody>\n",
       "    <tr>\n",
       "      <th>0</th>\n",
       "      <td>2021-01-01</td>\n",
       "      <td>2021</td>\n",
       "      <td>67</td>\n",
       "    </tr>\n",
       "    <tr>\n",
       "      <th>1</th>\n",
       "      <td>2021-01-02</td>\n",
       "      <td>2021</td>\n",
       "      <td>63</td>\n",
       "    </tr>\n",
       "    <tr>\n",
       "      <th>2</th>\n",
       "      <td>2021-01-03</td>\n",
       "      <td>2021</td>\n",
       "      <td>62</td>\n",
       "    </tr>\n",
       "    <tr>\n",
       "      <th>3</th>\n",
       "      <td>2021-01-04</td>\n",
       "      <td>2021</td>\n",
       "      <td>59</td>\n",
       "    </tr>\n",
       "    <tr>\n",
       "      <th>4</th>\n",
       "      <td>2021-01-05</td>\n",
       "      <td>2021</td>\n",
       "      <td>57</td>\n",
       "    </tr>\n",
       "  </tbody>\n",
       "</table>\n",
       "</div>"
      ],
      "text/plain": [
       "         DATE  year  TMAX\n",
       "0  2021-01-01  2021    67\n",
       "1  2021-01-02  2021    63\n",
       "2  2021-01-03  2021    62\n",
       "3  2021-01-04  2021    59\n",
       "4  2021-01-05  2021    57"
      ]
     },
     "execution_count": 162,
     "metadata": {},
     "output_type": "execute_result"
    }
   ],
   "source": [
    "columns = ['DATE', 'year', 'TMAX']\n",
    "df = pd.read_parquet(file, \n",
    "                     engine='pyarrow', \n",
    "                     filters=filters, \n",
    "                     columns=columns)\n",
    "\n",
    "df.head()"
   ]
  },
  {
   "cell_type": "code",
   "execution_count": 164,
   "id": "22237eb9-229d-4003-b028-6de67e1a623b",
   "metadata": {},
   "outputs": [
    {
     "name": "stdout",
     "output_type": "stream",
     "text": [
      "<class 'pandas.core.frame.DataFrame'>\n",
      "RangeIndex: 881 entries, 0 to 880\n",
      "Data columns (total 3 columns):\n",
      " #   Column  Non-Null Count  Dtype   \n",
      "---  ------  --------------  -----   \n",
      " 0   DATE    881 non-null    object  \n",
      " 1   year    881 non-null    category\n",
      " 2   TMAX    881 non-null    int64   \n",
      "dtypes: category(1), int64(1), object(1)\n",
      "memory usage: 15.2+ KB\n"
     ]
    }
   ],
   "source": [
    "df.info()"
   ]
  },
  {
   "cell_type": "markdown",
   "id": "5f9ef33e-7456-449a-82e5-8f205d657fae",
   "metadata": {},
   "source": [
    "## There is more"
   ]
  },
  {
   "cell_type": "code",
   "execution_count": 167,
   "id": "2c4eab52-3fa4-40a1-bcd3-0dcc81c86198",
   "metadata": {},
   "outputs": [],
   "source": [
    "import pyarrow.parquet as pq\n",
    "import pyarrow as pa\n",
    "from pathlib import Path\n",
    "\n",
    "file = Path('../../datasets/Ch2/LA_weather.parquet/')\n",
    "table = pq.read_table(file, filters=filters, columns=columns)"
   ]
  },
  {
   "cell_type": "code",
   "execution_count": 169,
   "id": "7110d489-0ea5-40d8-8744-cb89b094b8fe",
   "metadata": {},
   "outputs": [
    {
     "data": {
      "text/plain": [
       "True"
      ]
     },
     "execution_count": 169,
     "metadata": {},
     "output_type": "execute_result"
    }
   ],
   "source": [
    "import pyarrow as pa\n",
    "isinstance(table, pa.Table)"
   ]
  },
  {
   "cell_type": "code",
   "execution_count": 171,
   "id": "0e150b68-93ee-497e-bd6b-8c912f8ba379",
   "metadata": {},
   "outputs": [
    {
     "name": "stdout",
     "output_type": "stream",
     "text": [
      "<class 'pandas.core.frame.DataFrame'>\n",
      "RangeIndex: 881 entries, 0 to 880\n",
      "Data columns (total 3 columns):\n",
      " #   Column  Non-Null Count  Dtype   \n",
      "---  ------  --------------  -----   \n",
      " 0   DATE    881 non-null    object  \n",
      " 1   year    881 non-null    category\n",
      " 2   TMAX    881 non-null    int64   \n",
      "dtypes: category(1), int64(1), object(1)\n",
      "memory usage: 15.2+ KB\n"
     ]
    }
   ],
   "source": [
    "df = table.to_pandas()\n",
    "df.info()"
   ]
  },
  {
   "cell_type": "code",
   "execution_count": 173,
   "id": "8af83870-98b9-4ac5-a5ba-62c0d13d5076",
   "metadata": {},
   "outputs": [
    {
     "name": "stdout",
     "output_type": "stream",
     "text": [
      "         DATE  year  TMAX\n",
      "0  2021-01-01  2021    67\n",
      "1  2021-01-02  2021    63\n",
      "2  2021-01-03  2021    62\n",
      "3  2021-01-04  2021    59\n",
      "4  2021-01-05  2021    57\n"
     ]
    }
   ],
   "source": [
    "print(df.head())"
   ]
  },
  {
   "cell_type": "code",
   "execution_count": 175,
   "id": "fed9bcc3-5847-4558-8721-05705c51840b",
   "metadata": {},
   "outputs": [
    {
     "data": {
      "text/plain": [
       "['DATE', 'year', 'TMAX']"
      ]
     },
     "execution_count": 175,
     "metadata": {},
     "output_type": "execute_result"
    }
   ],
   "source": [
    "table.column_names"
   ]
  },
  {
   "cell_type": "code",
   "execution_count": 177,
   "id": "883658cb-cd71-4046-83be-f8340412cff4",
   "metadata": {},
   "outputs": [
    {
     "data": {
      "text/plain": [
       "DATE: string\n",
       "year: dictionary<values=int32, indices=int32, ordered=0>\n",
       "TMAX: int64\n",
       "-- schema metadata --\n",
       "pandas: '{\"index_columns\": [{\"kind\": \"range\", \"name\": null, \"start\": 0, \"' + 2236"
      ]
     },
     "execution_count": 177,
     "metadata": {},
     "output_type": "execute_result"
    }
   ],
   "source": [
    "table.schema"
   ]
  },
  {
   "cell_type": "code",
   "execution_count": 179,
   "id": "f7011593-52e8-4f00-8033-f25b439a13bd",
   "metadata": {},
   "outputs": [
    {
     "data": {
      "text/plain": [
       "['DATE', 'year', 'TMAX']"
      ]
     },
     "execution_count": 179,
     "metadata": {},
     "output_type": "execute_result"
    }
   ],
   "source": [
    "table.column_names"
   ]
  },
  {
   "cell_type": "markdown",
   "id": "547dd778-5c97-43df-a263-02579fb4ae12",
   "metadata": {},
   "source": [
    "### Passing a Schema"
   ]
  },
  {
   "cell_type": "code",
   "execution_count": 186,
   "id": "6aeace17-3615-47f2-8aa5-8d1f3acd31f6",
   "metadata": {},
   "outputs": [],
   "source": [
    "columns = ['DATE','year', 'TMAX']\n",
    "filters = [('year', 'in', [2021, 2022, 2023])]\n",
    "\n",
    "tb = pq.read_table(file,\n",
    "                   filters=filters, \n",
    "                   columns=columns,\n",
    "                   use_pandas_metadata=True)\n",
    "\n",
    "df_pa = tb.to_pandas()"
   ]
  },
  {
   "cell_type": "code",
   "execution_count": 188,
   "id": "9d4ea0d3-4c1f-488d-9e22-6989e270ae32",
   "metadata": {},
   "outputs": [
    {
     "name": "stdout",
     "output_type": "stream",
     "text": [
      "<class 'pandas.core.frame.DataFrame'>\n",
      "RangeIndex: 881 entries, 0 to 880\n",
      "Data columns (total 3 columns):\n",
      " #   Column  Non-Null Count  Dtype   \n",
      "---  ------  --------------  -----   \n",
      " 0   DATE    881 non-null    object  \n",
      " 1   year    881 non-null    category\n",
      " 2   TMAX    881 non-null    int64   \n",
      "dtypes: category(1), int64(1), object(1)\n",
      "memory usage: 15.2+ KB\n"
     ]
    }
   ],
   "source": [
    "df_pa.info()"
   ]
  },
  {
   "cell_type": "code",
   "execution_count": 190,
   "id": "485fe837-85ae-4fa0-a385-7526d8c18a50",
   "metadata": {},
   "outputs": [
    {
     "name": "stdout",
     "output_type": "stream",
     "text": [
      "<class 'pandas.core.frame.DataFrame'>\n",
      "RangeIndex: 881 entries, 0 to 880\n",
      "Data columns (total 3 columns):\n",
      " #   Column  Non-Null Count  Dtype   \n",
      "---  ------  --------------  -----   \n",
      " 0   DATE    881 non-null    object  \n",
      " 1   year    881 non-null    category\n",
      " 2   TMAX    881 non-null    int64   \n",
      "dtypes: category(1), int64(1), object(1)\n",
      "memory usage: 15.2+ KB\n"
     ]
    }
   ],
   "source": [
    "df_pd = pd.read_parquet(file, \n",
    "                        filters=filters, \n",
    "                        columns=columns,\n",
    "                        use_pandas_metadata=True)\n",
    "\n",
    "df_pd.info()"
   ]
  },
  {
   "cell_type": "code",
   "execution_count": 192,
   "id": "010d57c6-f6ae-47d3-b504-8d259616ebc7",
   "metadata": {},
   "outputs": [],
   "source": [
    "schema = pa.schema([\n",
    "    ('DATE', pa.string()),\n",
    "    ('year', pa.int64()),\n",
    "    ('TMAX', pa.int64())\n",
    "])\n"
   ]
  },
  {
   "cell_type": "markdown",
   "id": "b262de4d-6bce-42b9-9259-38299fdb3f74",
   "metadata": {},
   "source": [
    "# Recipe 5 - Working with Large Data Files"
   ]
  },
  {
   "cell_type": "code",
   "execution_count": 1,
   "id": "ea9fb94e-e658-473c-bd67-3a3d1957d4ce",
   "metadata": {},
   "outputs": [],
   "source": [
    "# Script to create one large data file \n",
    "\n",
    "# import pandas as pd\n",
    "# import glob\n",
    "\n",
    "# def run_once():\n",
    "#     # Directory path where Parquet files are located\n",
    "#     directory = '../../datasets/Ch2/yellow_tripdata_2023-*.parquet'\n",
    "    \n",
    "#     # Get a list of all Parquet files in the directory\n",
    "#     parquet_files = glob.glob(directory)\n",
    "    \n",
    "#     # Read all Parquet files into a single DataFrame\n",
    "#     dfs = []\n",
    "#     for file in parquet_files:\n",
    "#         df = pd.read_parquet(file)\n",
    "#         dfs.append(df)\n",
    "    \n",
    "#     # Concatenate all DataFrames into a single DataFrame\n",
    "#     combined_df = pd.concat(dfs)\n",
    "#     # combined_df.to_parquet('../../datasets/Ch2/yellow_tripdata_2023.parquet', engine='pyarrow')\n",
    "#     combined_df.to_csv('../../datasets/Ch2/yellow_tripdata_2023.csv', index=False)\n",
    "\n",
    "# run_once()"
   ]
  },
  {
   "cell_type": "code",
   "execution_count": 475,
   "id": "880a1bda-e729-4520-9b4e-5da23c0dd854",
   "metadata": {},
   "outputs": [],
   "source": [
    "# !pip install 'dask[complete]' \n",
    "# !pip install 'modin[all]' \n",
    "# !pip install polars"
   ]
  },
  {
   "cell_type": "code",
   "execution_count": 24,
   "id": "de251c72-61f1-4ae4-b073-a9212e30372e",
   "metadata": {},
   "outputs": [],
   "source": [
    "# !pip install memory_profiler\n",
    "# !pip install setuptools"
   ]
  },
  {
   "cell_type": "markdown",
   "id": "257be096-3b72-41a8-8939-fa117a58c892",
   "metadata": {},
   "source": [
    "### Using other librarys\n",
    "* Polars\n",
    "* Dask"
   ]
  },
  {
   "cell_type": "code",
   "execution_count": 194,
   "id": "aefd5b90-2135-407c-bb62-1d781a70e900",
   "metadata": {},
   "outputs": [],
   "source": [
    "import pandas as pd\n",
    "import time\n",
    "import psutil\n",
    "import polars as pl\n",
    "import dask.dataframe as dd\n",
    "from pathlib import Path"
   ]
  },
  {
   "cell_type": "code",
   "execution_count": 196,
   "id": "cc234d50-36e3-4e5d-9527-715b5647e2a2",
   "metadata": {},
   "outputs": [
    {
     "name": "stdout",
     "output_type": "stream",
     "text": [
      "polars version: 1.20.0\n",
      "dask version: 2025.1.0\n"
     ]
    }
   ],
   "source": [
    "print(f'polars version: {pl.__version__}')\n",
    "import dask\n",
    "print(f'dask version: {dask.__version__}')"
   ]
  },
  {
   "cell_type": "code",
   "execution_count": 200,
   "id": "69c2797e-1dc2-4b12-8aad-8049672b43b9",
   "metadata": {},
   "outputs": [],
   "source": [
    "#import memory_profiler \n",
    "%load_ext memory_profiler"
   ]
  },
  {
   "cell_type": "code",
   "execution_count": 202,
   "id": "6d3ddf82-d84e-41eb-9918-2c1e101eb240",
   "metadata": {},
   "outputs": [],
   "source": [
    "# Read in the CSV file\n",
    "file_path = Path('../../datasets/Ch2/yellow_tripdata_2023.csv')"
   ]
  },
  {
   "cell_type": "markdown",
   "id": "b9a43c1d-bb7b-4902-bcdd-e33485f86b3b",
   "metadata": {},
   "source": [
    "## Normal Read using pandas `read_csv`"
   ]
  },
  {
   "cell_type": "code",
   "execution_count": 15,
   "id": "fff7f50c-f64b-46e1-aa93-82193af17100",
   "metadata": {},
   "outputs": [
    {
     "name": "stderr",
     "output_type": "stream",
     "text": [
      "/opt/anaconda3/envs/ts-1/lib/python3.13/multiprocessing/resource_tracker.py:136: UserWarning: resource_tracker: process died unexpectedly, relaunching.  Some resources might leak.\n",
      "  warnings.warn('resource_tracker: process died unexpectedly, '\n"
     ]
    },
    {
     "name": "stdout",
     "output_type": "stream",
     "text": [
      "peak memory: 9145.67 MiB, increment: 8938.42 MiB\n",
      "CPU times: user 23.6 s, sys: 3.64 s, total: 27.2 s\n",
      "Wall time: 28 s\n"
     ]
    }
   ],
   "source": [
    "%%time\n",
    "%%memit \n",
    "\n",
    "df_pd = pd.read_csv(file_path, low_memory=False)"
   ]
  },
  {
   "cell_type": "code",
   "execution_count": 16,
   "id": "e6020884-9d54-461d-8b9c-49bed7cd2e14",
   "metadata": {},
   "outputs": [],
   "source": [
    "# clean up\n",
    "del df_pd"
   ]
  },
  {
   "cell_type": "markdown",
   "id": "f4887d9d-77b4-4113-9b69-f6fd9671dc9e",
   "metadata": {},
   "source": [
    "## Using Chunksize parameter"
   ]
  },
  {
   "cell_type": "code",
   "execution_count": 19,
   "id": "116747ef-6740-4ac4-adf0-153ed14651fa",
   "metadata": {},
   "outputs": [
    {
     "name": "stdout",
     "output_type": "stream",
     "text": [
      "peak memory: 5477.58 MiB, increment: 3.38 MiB\n",
      "CPU times: user 52.8 ms, sys: 46.7 ms, total: 99.5 ms\n",
      "Wall time: 556 ms\n"
     ]
    }
   ],
   "source": [
    "%%time\n",
    "%%memit \n",
    "\n",
    "df_pd = pd.read_csv(file_path, low_memory=False, chunksize=10000)"
   ]
  },
  {
   "cell_type": "code",
   "execution_count": 21,
   "id": "e1a7d41d-877c-4f92-9209-eb5c65860d99",
   "metadata": {},
   "outputs": [
    {
     "data": {
      "text/plain": [
       "pandas.io.parsers.readers.TextFileReader"
      ]
     },
     "execution_count": 21,
     "metadata": {},
     "output_type": "execute_result"
    }
   ],
   "source": [
    "type(df_pd)"
   ]
  },
  {
   "cell_type": "code",
   "execution_count": 23,
   "id": "210111be-a7cc-4e47-9647-91995cbcacbc",
   "metadata": {},
   "outputs": [
    {
     "data": {
      "text/plain": [
       "10000"
      ]
     },
     "execution_count": 23,
     "metadata": {},
     "output_type": "execute_result"
    }
   ],
   "source": [
    "df_pd.chunksize"
   ]
  },
  {
   "cell_type": "markdown",
   "id": "63d5e992-57f7-4a13-8f90-022b224c98ac",
   "metadata": {},
   "source": [
    "### Using Next()"
   ]
  },
  {
   "cell_type": "code",
   "execution_count": 25,
   "id": "d85317c1-9ab3-4294-9062-25cf9d35458c",
   "metadata": {},
   "outputs": [
    {
     "name": "stdout",
     "output_type": "stream",
     "text": [
      "peak memory: 5486.98 MiB, increment: 9.08 MiB\n",
      "CPU times: user 66.4 ms, sys: 23.6 ms, total: 90 ms\n",
      "Wall time: 438 ms\n"
     ]
    }
   ],
   "source": [
    "%%time\n",
    "%%memit \n",
    "\n",
    "df_pd = pd.read_csv(file_path, low_memory=False, chunksize=10000)\n",
    "chunk = next(df_pd)\n",
    "chunk.head()"
   ]
  },
  {
   "cell_type": "markdown",
   "id": "08c921d4-d432-4bc4-b600-e60515d0bc71",
   "metadata": {},
   "source": [
    "### Using .get_chunk() method"
   ]
  },
  {
   "cell_type": "code",
   "execution_count": 50,
   "id": "f2fabd63-4b21-4ea7-8f98-68e7e54342ed",
   "metadata": {},
   "outputs": [
    {
     "data": {
      "text/html": [
       "<div>\n",
       "<style scoped>\n",
       "    .dataframe tbody tr th:only-of-type {\n",
       "        vertical-align: middle;\n",
       "    }\n",
       "\n",
       "    .dataframe tbody tr th {\n",
       "        vertical-align: top;\n",
       "    }\n",
       "\n",
       "    .dataframe thead th {\n",
       "        text-align: right;\n",
       "    }\n",
       "</style>\n",
       "<table border=\"1\" class=\"dataframe\">\n",
       "  <thead>\n",
       "    <tr style=\"text-align: right;\">\n",
       "      <th></th>\n",
       "      <th>VendorID</th>\n",
       "      <th>tpep_pickup_datetime</th>\n",
       "      <th>tpep_dropoff_datetime</th>\n",
       "      <th>passenger_count</th>\n",
       "      <th>trip_distance</th>\n",
       "      <th>RatecodeID</th>\n",
       "      <th>store_and_fwd_flag</th>\n",
       "      <th>PULocationID</th>\n",
       "      <th>DOLocationID</th>\n",
       "      <th>payment_type</th>\n",
       "      <th>fare_amount</th>\n",
       "      <th>extra</th>\n",
       "      <th>mta_tax</th>\n",
       "      <th>tip_amount</th>\n",
       "      <th>tolls_amount</th>\n",
       "      <th>improvement_surcharge</th>\n",
       "      <th>total_amount</th>\n",
       "      <th>congestion_surcharge</th>\n",
       "      <th>Airport_fee</th>\n",
       "      <th>airport_fee</th>\n",
       "    </tr>\n",
       "  </thead>\n",
       "  <tbody>\n",
       "    <tr>\n",
       "      <th>60000</th>\n",
       "      <td>1</td>\n",
       "      <td>2023-05-01 17:19:11</td>\n",
       "      <td>2023-05-01 17:26:25</td>\n",
       "      <td>1.0</td>\n",
       "      <td>0.60</td>\n",
       "      <td>1.0</td>\n",
       "      <td>N</td>\n",
       "      <td>162</td>\n",
       "      <td>230</td>\n",
       "      <td>1</td>\n",
       "      <td>7.2</td>\n",
       "      <td>5.0</td>\n",
       "      <td>0.5</td>\n",
       "      <td>2.75</td>\n",
       "      <td>0.0</td>\n",
       "      <td>1.0</td>\n",
       "      <td>16.45</td>\n",
       "      <td>2.5</td>\n",
       "      <td>0.0</td>\n",
       "      <td>NaN</td>\n",
       "    </tr>\n",
       "    <tr>\n",
       "      <th>60001</th>\n",
       "      <td>1</td>\n",
       "      <td>2023-05-01 17:31:32</td>\n",
       "      <td>2023-05-01 17:37:04</td>\n",
       "      <td>1.0</td>\n",
       "      <td>0.70</td>\n",
       "      <td>1.0</td>\n",
       "      <td>N</td>\n",
       "      <td>100</td>\n",
       "      <td>164</td>\n",
       "      <td>1</td>\n",
       "      <td>6.5</td>\n",
       "      <td>5.0</td>\n",
       "      <td>0.5</td>\n",
       "      <td>2.60</td>\n",
       "      <td>0.0</td>\n",
       "      <td>1.0</td>\n",
       "      <td>15.60</td>\n",
       "      <td>2.5</td>\n",
       "      <td>0.0</td>\n",
       "      <td>NaN</td>\n",
       "    </tr>\n",
       "    <tr>\n",
       "      <th>60002</th>\n",
       "      <td>1</td>\n",
       "      <td>2023-05-01 17:53:11</td>\n",
       "      <td>2023-05-01 18:05:09</td>\n",
       "      <td>1.0</td>\n",
       "      <td>1.30</td>\n",
       "      <td>1.0</td>\n",
       "      <td>N</td>\n",
       "      <td>79</td>\n",
       "      <td>231</td>\n",
       "      <td>1</td>\n",
       "      <td>10.7</td>\n",
       "      <td>5.0</td>\n",
       "      <td>0.5</td>\n",
       "      <td>2.00</td>\n",
       "      <td>0.0</td>\n",
       "      <td>1.0</td>\n",
       "      <td>19.20</td>\n",
       "      <td>2.5</td>\n",
       "      <td>0.0</td>\n",
       "      <td>NaN</td>\n",
       "    </tr>\n",
       "    <tr>\n",
       "      <th>60003</th>\n",
       "      <td>2</td>\n",
       "      <td>2023-05-01 17:14:40</td>\n",
       "      <td>2023-05-01 17:26:24</td>\n",
       "      <td>1.0</td>\n",
       "      <td>2.16</td>\n",
       "      <td>1.0</td>\n",
       "      <td>N</td>\n",
       "      <td>161</td>\n",
       "      <td>107</td>\n",
       "      <td>1</td>\n",
       "      <td>12.8</td>\n",
       "      <td>2.5</td>\n",
       "      <td>0.5</td>\n",
       "      <td>4.00</td>\n",
       "      <td>0.0</td>\n",
       "      <td>1.0</td>\n",
       "      <td>23.30</td>\n",
       "      <td>2.5</td>\n",
       "      <td>0.0</td>\n",
       "      <td>NaN</td>\n",
       "    </tr>\n",
       "    <tr>\n",
       "      <th>60004</th>\n",
       "      <td>2</td>\n",
       "      <td>2023-05-01 17:27:20</td>\n",
       "      <td>2023-05-01 17:38:22</td>\n",
       "      <td>1.0</td>\n",
       "      <td>1.95</td>\n",
       "      <td>1.0</td>\n",
       "      <td>N</td>\n",
       "      <td>107</td>\n",
       "      <td>229</td>\n",
       "      <td>1</td>\n",
       "      <td>13.5</td>\n",
       "      <td>2.5</td>\n",
       "      <td>0.5</td>\n",
       "      <td>3.00</td>\n",
       "      <td>0.0</td>\n",
       "      <td>1.0</td>\n",
       "      <td>23.00</td>\n",
       "      <td>2.5</td>\n",
       "      <td>0.0</td>\n",
       "      <td>NaN</td>\n",
       "    </tr>\n",
       "  </tbody>\n",
       "</table>\n",
       "</div>"
      ],
      "text/plain": [
       "       VendorID tpep_pickup_datetime tpep_dropoff_datetime  passenger_count  \\\n",
       "60000         1  2023-05-01 17:19:11   2023-05-01 17:26:25              1.0   \n",
       "60001         1  2023-05-01 17:31:32   2023-05-01 17:37:04              1.0   \n",
       "60002         1  2023-05-01 17:53:11   2023-05-01 18:05:09              1.0   \n",
       "60003         2  2023-05-01 17:14:40   2023-05-01 17:26:24              1.0   \n",
       "60004         2  2023-05-01 17:27:20   2023-05-01 17:38:22              1.0   \n",
       "\n",
       "       trip_distance  RatecodeID store_and_fwd_flag  PULocationID  \\\n",
       "60000           0.60         1.0                  N           162   \n",
       "60001           0.70         1.0                  N           100   \n",
       "60002           1.30         1.0                  N            79   \n",
       "60003           2.16         1.0                  N           161   \n",
       "60004           1.95         1.0                  N           107   \n",
       "\n",
       "       DOLocationID  payment_type  fare_amount  extra  mta_tax  tip_amount  \\\n",
       "60000           230             1          7.2    5.0      0.5        2.75   \n",
       "60001           164             1          6.5    5.0      0.5        2.60   \n",
       "60002           231             1         10.7    5.0      0.5        2.00   \n",
       "60003           107             1         12.8    2.5      0.5        4.00   \n",
       "60004           229             1         13.5    2.5      0.5        3.00   \n",
       "\n",
       "       tolls_amount  improvement_surcharge  total_amount  \\\n",
       "60000           0.0                    1.0         16.45   \n",
       "60001           0.0                    1.0         15.60   \n",
       "60002           0.0                    1.0         19.20   \n",
       "60003           0.0                    1.0         23.30   \n",
       "60004           0.0                    1.0         23.00   \n",
       "\n",
       "       congestion_surcharge  Airport_fee  airport_fee  \n",
       "60000                   2.5          0.0          NaN  \n",
       "60001                   2.5          0.0          NaN  \n",
       "60002                   2.5          0.0          NaN  \n",
       "60003                   2.5          0.0          NaN  \n",
       "60004                   2.5          0.0          NaN  "
      ]
     },
     "execution_count": 50,
     "metadata": {},
     "output_type": "execute_result"
    }
   ],
   "source": [
    "%%time\n",
    "%%memit \n",
    "\n",
    "chunk = df_pd.get_chunk()\n",
    "chunk.head()"
   ]
  },
  {
   "cell_type": "markdown",
   "id": "0c08353c-f788-47e2-b346-be5bb59ea5cd",
   "metadata": {},
   "source": [
    "### Using a loop"
   ]
  },
  {
   "cell_type": "code",
   "execution_count": 61,
   "id": "b538b592-99e9-4420-bb3d-43223635e239",
   "metadata": {},
   "outputs": [
    {
     "name": "stdout",
     "output_type": "stream",
     "text": [
      "peak memory: 11327.92 MiB, increment: 4507.19 MiB\n",
      "CPU times: user 3min 28s, sys: 3min 46s, total: 7min 14s\n",
      "Wall time: 7min 34s\n"
     ]
    }
   ],
   "source": [
    "%%time\n",
    "%%memit \n",
    "\n",
    "df_pd = pd.read_csv(file_path, low_memory=False, chunksize=10000)\n",
    "\n",
    "final_result = pd.DataFrame()\n",
    "for chunk in df_pd:\n",
    "    final_result = pd.concat([final_result, chunk])"
   ]
  },
  {
   "cell_type": "code",
   "execution_count": 62,
   "id": "4feace96-718b-4696-a34f-0a57700c3dd0",
   "metadata": {},
   "outputs": [],
   "source": [
    "# clean up\n",
    "del df_pd"
   ]
  },
  {
   "cell_type": "markdown",
   "id": "26d0253f-ea3c-4441-bdc4-a33283c18cf5",
   "metadata": {},
   "source": [
    "### Using pd.concat()"
   ]
  },
  {
   "cell_type": "code",
   "execution_count": 53,
   "id": "83210226-fc15-47e7-8fbd-d54a3a4635fd",
   "metadata": {},
   "outputs": [
    {
     "name": "stdout",
     "output_type": "stream",
     "text": [
      "peak memory: 9145.42 MiB, increment: 697.86 MiB\n",
      "CPU times: user 14.9 s, sys: 2.81 s, total: 17.7 s\n",
      "Wall time: 18.8 s\n"
     ]
    }
   ],
   "source": [
    "%%time\n",
    "%%memit \n",
    "\n",
    "\n",
    "df_pd = pd.read_csv(file_path, low_memory=False, chunksize=10000)\n",
    "\n",
    "final_result = pd.concat(df_pd)"
   ]
  },
  {
   "cell_type": "code",
   "execution_count": 79,
   "id": "e3a3cb9b-0d86-4d06-b5eb-a8234e4990d0",
   "metadata": {},
   "outputs": [],
   "source": [
    "# clean up\n",
    "del df_pd"
   ]
  },
  {
   "cell_type": "markdown",
   "id": "982f049e-5d88-42ef-8f98-72325da9ea82",
   "metadata": {},
   "source": [
    "## Using Dask"
   ]
  },
  {
   "cell_type": "code",
   "execution_count": 27,
   "id": "6e7ce94c-3064-4b79-a0c7-3996cacaf210",
   "metadata": {},
   "outputs": [],
   "source": [
    "import dask.dataframe as dd\n",
    "from pathlib import Path\n",
    "\n",
    "file_path = Path('../../datasets/Ch2/yellow_tripdata_2023.csv')"
   ]
  },
  {
   "cell_type": "code",
   "execution_count": 29,
   "id": "f1452248-d7f2-467f-bda8-6cc662c493e7",
   "metadata": {},
   "outputs": [
    {
     "name": "stdout",
     "output_type": "stream",
     "text": [
      "peak memory: 5491.03 MiB, increment: 3.66 MiB\n",
      "CPU times: user 62.3 ms, sys: 20 ms, total: 82.3 ms\n",
      "Wall time: 428 ms\n"
     ]
    }
   ],
   "source": [
    "%%time\n",
    "%%memit \n",
    "\n",
    "df_dk = dd.read_csv(file_path)"
   ]
  },
  {
   "cell_type": "code",
   "execution_count": 31,
   "id": "0ba04391-8529-4d93-865d-8320c3f8b574",
   "metadata": {},
   "outputs": [
    {
     "name": "stdout",
     "output_type": "stream",
     "text": [
      "Dask DataFrame Structure:\n",
      "               VendorID tpep_pickup_datetime tpep_dropoff_datetime passenger_count trip_distance RatecodeID store_and_fwd_flag PULocationID DOLocationID payment_type fare_amount    extra  mta_tax tip_amount tolls_amount improvement_surcharge total_amount congestion_surcharge Airport_fee airport_fee\n",
      "npartitions=26                                                                                                                                                                                                                                                                                             \n",
      "                  int64               string                string         float64       float64    float64             string        int64        int64        int64     float64  float64  float64    float64      float64               float64      float64              float64     float64     float64\n",
      "                    ...                  ...                   ...             ...           ...        ...                ...          ...          ...          ...         ...      ...      ...        ...          ...                   ...          ...                  ...         ...         ...\n",
      "...                 ...                  ...                   ...             ...           ...        ...                ...          ...          ...          ...         ...      ...      ...        ...          ...                   ...          ...                  ...         ...         ...\n",
      "                    ...                  ...                   ...             ...           ...        ...                ...          ...          ...          ...         ...      ...      ...        ...          ...                   ...          ...                  ...         ...         ...\n",
      "                    ...                  ...                   ...             ...           ...        ...                ...          ...          ...          ...         ...      ...      ...        ...          ...                   ...          ...                  ...         ...         ...\n",
      "Dask Name: read_csv, 1 expression\n",
      "Expr=ReadCSV(ff0e769)\n"
     ]
    }
   ],
   "source": [
    "print(df_dk)"
   ]
  },
  {
   "cell_type": "code",
   "execution_count": 35,
   "id": "adad5feb-c61a-4e65-bdee-2bbca8270eea",
   "metadata": {},
   "outputs": [
    {
     "name": "stdout",
     "output_type": "stream",
     "text": [
      "16186386\n",
      "peak memory: 6129.42 MiB, increment: 405.78 MiB\n",
      "CPU times: user 18.4 s, sys: 5.25 s, total: 23.6 s\n",
      "Wall time: 9.78 s\n"
     ]
    }
   ],
   "source": [
    "%%time\n",
    "%%memit \n",
    "\n",
    "print(df_dk.shape[0].compute())"
   ]
  },
  {
   "cell_type": "code",
   "execution_count": 36,
   "id": "c423f817-0f8f-4d51-97c9-e0a7cab16d94",
   "metadata": {},
   "outputs": [
    {
     "data": {
      "text/plain": [
       "dask_expr._collection.DataFrame"
      ]
     },
     "execution_count": 36,
     "metadata": {},
     "output_type": "execute_result"
    }
   ],
   "source": [
    "type(df_dk)"
   ]
  },
  {
   "cell_type": "code",
   "execution_count": 37,
   "id": "80166e74-d5fc-4d72-a951-8603d8a16ead",
   "metadata": {},
   "outputs": [
    {
     "name": "stdout",
     "output_type": "stream",
     "text": [
      "<class 'dask_expr.DataFrame'>\n",
      "Columns: 20 entries, VendorID to airport_fee\n",
      "dtypes: float64(13), int64(4), string(3)"
     ]
    }
   ],
   "source": [
    "df_dk.info()"
   ]
  },
  {
   "cell_type": "code",
   "execution_count": 41,
   "id": "94fc3a72-3e00-4c09-b268-388e31b88e1b",
   "metadata": {},
   "outputs": [
    {
     "data": {
      "text/html": [
       "<div>\n",
       "<style scoped>\n",
       "    .dataframe tbody tr th:only-of-type {\n",
       "        vertical-align: middle;\n",
       "    }\n",
       "\n",
       "    .dataframe tbody tr th {\n",
       "        vertical-align: top;\n",
       "    }\n",
       "\n",
       "    .dataframe thead th {\n",
       "        text-align: right;\n",
       "    }\n",
       "</style>\n",
       "<table border=\"1\" class=\"dataframe\">\n",
       "  <thead>\n",
       "    <tr style=\"text-align: right;\">\n",
       "      <th></th>\n",
       "      <th>VendorID</th>\n",
       "      <th>tpep_pickup_datetime</th>\n",
       "      <th>tpep_dropoff_datetime</th>\n",
       "      <th>passenger_count</th>\n",
       "      <th>trip_distance</th>\n",
       "      <th>RatecodeID</th>\n",
       "      <th>store_and_fwd_flag</th>\n",
       "      <th>PULocationID</th>\n",
       "      <th>DOLocationID</th>\n",
       "      <th>payment_type</th>\n",
       "      <th>fare_amount</th>\n",
       "      <th>extra</th>\n",
       "      <th>mta_tax</th>\n",
       "      <th>tip_amount</th>\n",
       "      <th>tolls_amount</th>\n",
       "      <th>improvement_surcharge</th>\n",
       "      <th>total_amount</th>\n",
       "      <th>congestion_surcharge</th>\n",
       "      <th>Airport_fee</th>\n",
       "      <th>airport_fee</th>\n",
       "    </tr>\n",
       "  </thead>\n",
       "  <tbody>\n",
       "    <tr>\n",
       "      <th>0</th>\n",
       "      <td>1</td>\n",
       "      <td>2023-05-01 00:33:13</td>\n",
       "      <td>2023-05-01 00:53:01</td>\n",
       "      <td>0.0</td>\n",
       "      <td>7.80</td>\n",
       "      <td>1.0</td>\n",
       "      <td>N</td>\n",
       "      <td>138</td>\n",
       "      <td>43</td>\n",
       "      <td>1</td>\n",
       "      <td>33.8</td>\n",
       "      <td>7.75</td>\n",
       "      <td>0.5</td>\n",
       "      <td>8.60</td>\n",
       "      <td>0.00</td>\n",
       "      <td>1.0</td>\n",
       "      <td>51.65</td>\n",
       "      <td>0.0</td>\n",
       "      <td>1.75</td>\n",
       "      <td>NaN</td>\n",
       "    </tr>\n",
       "    <tr>\n",
       "      <th>1</th>\n",
       "      <td>1</td>\n",
       "      <td>2023-05-01 00:42:49</td>\n",
       "      <td>2023-05-01 01:11:18</td>\n",
       "      <td>2.0</td>\n",
       "      <td>8.10</td>\n",
       "      <td>1.0</td>\n",
       "      <td>N</td>\n",
       "      <td>138</td>\n",
       "      <td>262</td>\n",
       "      <td>1</td>\n",
       "      <td>35.9</td>\n",
       "      <td>10.25</td>\n",
       "      <td>0.5</td>\n",
       "      <td>9.50</td>\n",
       "      <td>0.00</td>\n",
       "      <td>1.0</td>\n",
       "      <td>57.15</td>\n",
       "      <td>2.5</td>\n",
       "      <td>1.75</td>\n",
       "      <td>NaN</td>\n",
       "    </tr>\n",
       "    <tr>\n",
       "      <th>2</th>\n",
       "      <td>1</td>\n",
       "      <td>2023-05-01 00:56:34</td>\n",
       "      <td>2023-05-01 01:13:39</td>\n",
       "      <td>2.0</td>\n",
       "      <td>9.10</td>\n",
       "      <td>1.0</td>\n",
       "      <td>N</td>\n",
       "      <td>138</td>\n",
       "      <td>141</td>\n",
       "      <td>1</td>\n",
       "      <td>35.2</td>\n",
       "      <td>10.25</td>\n",
       "      <td>0.5</td>\n",
       "      <td>10.70</td>\n",
       "      <td>6.55</td>\n",
       "      <td>1.0</td>\n",
       "      <td>64.20</td>\n",
       "      <td>2.5</td>\n",
       "      <td>1.75</td>\n",
       "      <td>NaN</td>\n",
       "    </tr>\n",
       "    <tr>\n",
       "      <th>3</th>\n",
       "      <td>2</td>\n",
       "      <td>2023-05-01 00:00:52</td>\n",
       "      <td>2023-05-01 00:20:12</td>\n",
       "      <td>1.0</td>\n",
       "      <td>8.21</td>\n",
       "      <td>1.0</td>\n",
       "      <td>N</td>\n",
       "      <td>138</td>\n",
       "      <td>140</td>\n",
       "      <td>1</td>\n",
       "      <td>33.1</td>\n",
       "      <td>6.00</td>\n",
       "      <td>0.5</td>\n",
       "      <td>2.24</td>\n",
       "      <td>0.00</td>\n",
       "      <td>1.0</td>\n",
       "      <td>47.09</td>\n",
       "      <td>2.5</td>\n",
       "      <td>1.75</td>\n",
       "      <td>NaN</td>\n",
       "    </tr>\n",
       "    <tr>\n",
       "      <th>4</th>\n",
       "      <td>1</td>\n",
       "      <td>2023-05-01 00:05:50</td>\n",
       "      <td>2023-05-01 00:19:41</td>\n",
       "      <td>0.0</td>\n",
       "      <td>7.90</td>\n",
       "      <td>1.0</td>\n",
       "      <td>N</td>\n",
       "      <td>138</td>\n",
       "      <td>263</td>\n",
       "      <td>1</td>\n",
       "      <td>31.0</td>\n",
       "      <td>10.25</td>\n",
       "      <td>0.5</td>\n",
       "      <td>9.85</td>\n",
       "      <td>6.55</td>\n",
       "      <td>1.0</td>\n",
       "      <td>59.15</td>\n",
       "      <td>2.5</td>\n",
       "      <td>1.75</td>\n",
       "      <td>NaN</td>\n",
       "    </tr>\n",
       "  </tbody>\n",
       "</table>\n",
       "</div>"
      ],
      "text/plain": [
       "   VendorID tpep_pickup_datetime tpep_dropoff_datetime  passenger_count  \\\n",
       "0         1  2023-05-01 00:33:13   2023-05-01 00:53:01              0.0   \n",
       "1         1  2023-05-01 00:42:49   2023-05-01 01:11:18              2.0   \n",
       "2         1  2023-05-01 00:56:34   2023-05-01 01:13:39              2.0   \n",
       "3         2  2023-05-01 00:00:52   2023-05-01 00:20:12              1.0   \n",
       "4         1  2023-05-01 00:05:50   2023-05-01 00:19:41              0.0   \n",
       "\n",
       "   trip_distance  RatecodeID store_and_fwd_flag  PULocationID  DOLocationID  \\\n",
       "0           7.80         1.0                  N           138            43   \n",
       "1           8.10         1.0                  N           138           262   \n",
       "2           9.10         1.0                  N           138           141   \n",
       "3           8.21         1.0                  N           138           140   \n",
       "4           7.90         1.0                  N           138           263   \n",
       "\n",
       "   payment_type  fare_amount  extra  mta_tax  tip_amount  tolls_amount  \\\n",
       "0             1         33.8   7.75      0.5        8.60          0.00   \n",
       "1             1         35.9  10.25      0.5        9.50          0.00   \n",
       "2             1         35.2  10.25      0.5       10.70          6.55   \n",
       "3             1         33.1   6.00      0.5        2.24          0.00   \n",
       "4             1         31.0  10.25      0.5        9.85          6.55   \n",
       "\n",
       "   improvement_surcharge  total_amount  congestion_surcharge  Airport_fee  \\\n",
       "0                    1.0         51.65                   0.0         1.75   \n",
       "1                    1.0         57.15                   2.5         1.75   \n",
       "2                    1.0         64.20                   2.5         1.75   \n",
       "3                    1.0         47.09                   2.5         1.75   \n",
       "4                    1.0         59.15                   2.5         1.75   \n",
       "\n",
       "   airport_fee  \n",
       "0          NaN  \n",
       "1          NaN  \n",
       "2          NaN  \n",
       "3          NaN  \n",
       "4          NaN  "
      ]
     },
     "execution_count": 41,
     "metadata": {},
     "output_type": "execute_result"
    }
   ],
   "source": [
    "df_dk.head()"
   ]
  },
  {
   "cell_type": "code",
   "execution_count": 43,
   "id": "463910c0-97a2-48f8-97d9-be290e6ac46b",
   "metadata": {},
   "outputs": [
    {
     "data": {
      "text/plain": [
       "pandas.core.frame.DataFrame"
      ]
     },
     "execution_count": 43,
     "metadata": {},
     "output_type": "execute_result"
    }
   ],
   "source": [
    "df_pd = df_dk.compute()\n",
    "type(df_pd)"
   ]
  },
  {
   "cell_type": "code",
   "execution_count": 15,
   "id": "b886da76-7e2d-459f-92a0-b84ff89b9e56",
   "metadata": {},
   "outputs": [],
   "source": [
    "del df_dk"
   ]
  },
  {
   "cell_type": "markdown",
   "id": "e77ed9de-f402-4506-b4e8-ac9073a89ca6",
   "metadata": {},
   "source": [
    "## Using Polars"
   ]
  },
  {
   "cell_type": "code",
   "execution_count": 44,
   "id": "e2086785-fb20-48df-b7a3-dd12a94c230c",
   "metadata": {},
   "outputs": [],
   "source": [
    "import polars as pl\n",
    "from pathlib import Path\n",
    "\n",
    "file_path = Path('../../datasets/Ch2/yellow_tripdata_2023.csv')\n"
   ]
  },
  {
   "cell_type": "code",
   "execution_count": 45,
   "id": "b971fe42-5379-4e10-ac9a-f805b8feb499",
   "metadata": {},
   "outputs": [
    {
     "name": "stdout",
     "output_type": "stream",
     "text": [
      "peak memory: 11275.28 MiB, increment: 3088.83 MiB\n",
      "CPU times: user 6.18 s, sys: 990 ms, total: 7.17 s\n",
      "Wall time: 1.55 s\n"
     ]
    }
   ],
   "source": [
    "%%time\n",
    "%%memit\n",
    "\n",
    "df_pl = pl.read_csv(file_path)"
   ]
  },
  {
   "cell_type": "code",
   "execution_count": 46,
   "id": "e90aa097-d6a1-4c09-ab60-e44764d36de6",
   "metadata": {},
   "outputs": [
    {
     "data": {
      "text/html": [
       "<div><style>\n",
       ".dataframe > thead > tr,\n",
       ".dataframe > tbody > tr {\n",
       "  text-align: right;\n",
       "  white-space: pre-wrap;\n",
       "}\n",
       "</style>\n",
       "<small>shape: (5, 20)</small><table border=\"1\" class=\"dataframe\"><thead><tr><th>VendorID</th><th>tpep_pickup_datetime</th><th>tpep_dropoff_datetime</th><th>passenger_count</th><th>trip_distance</th><th>RatecodeID</th><th>store_and_fwd_flag</th><th>PULocationID</th><th>DOLocationID</th><th>payment_type</th><th>fare_amount</th><th>extra</th><th>mta_tax</th><th>tip_amount</th><th>tolls_amount</th><th>improvement_surcharge</th><th>total_amount</th><th>congestion_surcharge</th><th>Airport_fee</th><th>airport_fee</th></tr><tr><td>i64</td><td>str</td><td>str</td><td>f64</td><td>f64</td><td>f64</td><td>str</td><td>i64</td><td>i64</td><td>i64</td><td>f64</td><td>f64</td><td>f64</td><td>f64</td><td>f64</td><td>f64</td><td>f64</td><td>f64</td><td>f64</td><td>str</td></tr></thead><tbody><tr><td>1</td><td>&quot;2023-05-01 00:33:13&quot;</td><td>&quot;2023-05-01 00:53:01&quot;</td><td>0.0</td><td>7.8</td><td>1.0</td><td>&quot;N&quot;</td><td>138</td><td>43</td><td>1</td><td>33.8</td><td>7.75</td><td>0.5</td><td>8.6</td><td>0.0</td><td>1.0</td><td>51.65</td><td>0.0</td><td>1.75</td><td>null</td></tr><tr><td>1</td><td>&quot;2023-05-01 00:42:49&quot;</td><td>&quot;2023-05-01 01:11:18&quot;</td><td>2.0</td><td>8.1</td><td>1.0</td><td>&quot;N&quot;</td><td>138</td><td>262</td><td>1</td><td>35.9</td><td>10.25</td><td>0.5</td><td>9.5</td><td>0.0</td><td>1.0</td><td>57.15</td><td>2.5</td><td>1.75</td><td>null</td></tr><tr><td>1</td><td>&quot;2023-05-01 00:56:34&quot;</td><td>&quot;2023-05-01 01:13:39&quot;</td><td>2.0</td><td>9.1</td><td>1.0</td><td>&quot;N&quot;</td><td>138</td><td>141</td><td>1</td><td>35.2</td><td>10.25</td><td>0.5</td><td>10.7</td><td>6.55</td><td>1.0</td><td>64.2</td><td>2.5</td><td>1.75</td><td>null</td></tr><tr><td>2</td><td>&quot;2023-05-01 00:00:52&quot;</td><td>&quot;2023-05-01 00:20:12&quot;</td><td>1.0</td><td>8.21</td><td>1.0</td><td>&quot;N&quot;</td><td>138</td><td>140</td><td>1</td><td>33.1</td><td>6.0</td><td>0.5</td><td>2.24</td><td>0.0</td><td>1.0</td><td>47.09</td><td>2.5</td><td>1.75</td><td>null</td></tr><tr><td>1</td><td>&quot;2023-05-01 00:05:50&quot;</td><td>&quot;2023-05-01 00:19:41&quot;</td><td>0.0</td><td>7.9</td><td>1.0</td><td>&quot;N&quot;</td><td>138</td><td>263</td><td>1</td><td>31.0</td><td>10.25</td><td>0.5</td><td>9.85</td><td>6.55</td><td>1.0</td><td>59.15</td><td>2.5</td><td>1.75</td><td>null</td></tr></tbody></table></div>"
      ],
      "text/plain": [
       "shape: (5, 20)\n",
       "┌──────────┬───────────┬───────────┬───────────┬───┬───────────┬───────────┬───────────┬───────────┐\n",
       "│ VendorID ┆ tpep_pick ┆ tpep_drop ┆ passenger ┆ … ┆ total_amo ┆ congestio ┆ Airport_f ┆ airport_f │\n",
       "│ ---      ┆ up_dateti ┆ off_datet ┆ _count    ┆   ┆ unt       ┆ n_surchar ┆ ee        ┆ ee        │\n",
       "│ i64      ┆ me        ┆ ime       ┆ ---       ┆   ┆ ---       ┆ ge        ┆ ---       ┆ ---       │\n",
       "│          ┆ ---       ┆ ---       ┆ f64       ┆   ┆ f64       ┆ ---       ┆ f64       ┆ str       │\n",
       "│          ┆ str       ┆ str       ┆           ┆   ┆           ┆ f64       ┆           ┆           │\n",
       "╞══════════╪═══════════╪═══════════╪═══════════╪═══╪═══════════╪═══════════╪═══════════╪═══════════╡\n",
       "│ 1        ┆ 2023-05-0 ┆ 2023-05-0 ┆ 0.0       ┆ … ┆ 51.65     ┆ 0.0       ┆ 1.75      ┆ null      │\n",
       "│          ┆ 1         ┆ 1         ┆           ┆   ┆           ┆           ┆           ┆           │\n",
       "│          ┆ 00:33:13  ┆ 00:53:01  ┆           ┆   ┆           ┆           ┆           ┆           │\n",
       "│ 1        ┆ 2023-05-0 ┆ 2023-05-0 ┆ 2.0       ┆ … ┆ 57.15     ┆ 2.5       ┆ 1.75      ┆ null      │\n",
       "│          ┆ 1         ┆ 1         ┆           ┆   ┆           ┆           ┆           ┆           │\n",
       "│          ┆ 00:42:49  ┆ 01:11:18  ┆           ┆   ┆           ┆           ┆           ┆           │\n",
       "│ 1        ┆ 2023-05-0 ┆ 2023-05-0 ┆ 2.0       ┆ … ┆ 64.2      ┆ 2.5       ┆ 1.75      ┆ null      │\n",
       "│          ┆ 1         ┆ 1         ┆           ┆   ┆           ┆           ┆           ┆           │\n",
       "│          ┆ 00:56:34  ┆ 01:13:39  ┆           ┆   ┆           ┆           ┆           ┆           │\n",
       "│ 2        ┆ 2023-05-0 ┆ 2023-05-0 ┆ 1.0       ┆ … ┆ 47.09     ┆ 2.5       ┆ 1.75      ┆ null      │\n",
       "│          ┆ 1         ┆ 1         ┆           ┆   ┆           ┆           ┆           ┆           │\n",
       "│          ┆ 00:00:52  ┆ 00:20:12  ┆           ┆   ┆           ┆           ┆           ┆           │\n",
       "│ 1        ┆ 2023-05-0 ┆ 2023-05-0 ┆ 0.0       ┆ … ┆ 59.15     ┆ 2.5       ┆ 1.75      ┆ null      │\n",
       "│          ┆ 1         ┆ 1         ┆           ┆   ┆           ┆           ┆           ┆           │\n",
       "│          ┆ 00:05:50  ┆ 00:19:41  ┆           ┆   ┆           ┆           ┆           ┆           │\n",
       "└──────────┴───────────┴───────────┴───────────┴───┴───────────┴───────────┴───────────┴───────────┘"
      ]
     },
     "execution_count": 46,
     "metadata": {},
     "output_type": "execute_result"
    }
   ],
   "source": [
    "df_pl.head()"
   ]
  },
  {
   "cell_type": "code",
   "execution_count": 51,
   "id": "150ddce4-6eff-4945-8d38-b07b8dcf5a93",
   "metadata": {},
   "outputs": [
    {
     "data": {
      "text/plain": [
       "polars.dataframe.frame.DataFrame"
      ]
     },
     "execution_count": 51,
     "metadata": {},
     "output_type": "execute_result"
    }
   ],
   "source": [
    "type(df_pl)"
   ]
  },
  {
   "cell_type": "code",
   "execution_count": 53,
   "id": "d58bc085-0682-45ee-ba85-7c2ef198a8e3",
   "metadata": {},
   "outputs": [
    {
     "data": {
      "text/plain": [
       "(16186386, 20)"
      ]
     },
     "execution_count": 53,
     "metadata": {},
     "output_type": "execute_result"
    }
   ],
   "source": [
    "df_pl.shape"
   ]
  },
  {
   "cell_type": "code",
   "execution_count": 55,
   "id": "dcc537fa-a50b-43e8-8e26-5a2705265421",
   "metadata": {},
   "outputs": [],
   "source": [
    "df_pd = df_pl.to_pandas()"
   ]
  },
  {
   "cell_type": "markdown",
   "id": "ae3f6438-8161-4756-9332-aa899a88a3fa",
   "metadata": {},
   "source": [
    "### There is more"
   ]
  },
  {
   "cell_type": "code",
   "execution_count": 204,
   "id": "3bf9c867-3e23-404b-bc96-dc5033cae2f8",
   "metadata": {},
   "outputs": [],
   "source": [
    "from pathlib import Path\n",
    "from modin.config import Engine\n",
    "Engine.put(\"dask\")  # Modin will use Dask\n",
    "import modin.pandas as pd\n",
    "file_path = Path('../../datasets/Ch2/yellow_tripdata_2023.csv')\n"
   ]
  },
  {
   "cell_type": "code",
   "execution_count": 206,
   "id": "7c9ce04f-7f59-49d6-b849-98e181fb3b96",
   "metadata": {},
   "outputs": [
    {
     "name": "stdout",
     "output_type": "stream",
     "text": [
      "peak memory: 570.48 MiB, increment: 184.17 MiB\n",
      "CPU times: user 1.53 s, sys: 689 ms, total: 2.22 s\n",
      "Wall time: 9.89 s\n"
     ]
    }
   ],
   "source": [
    "%%time\n",
    "%%memit \n",
    "pd.read_csv(file_path)"
   ]
  },
  {
   "cell_type": "code",
   "execution_count": 207,
   "id": "38379cf8-eed4-4c7c-b32a-654172b46f97",
   "metadata": {},
   "outputs": [
    {
     "name": "stdout",
     "output_type": "stream",
     "text": [
      "<class 'pandas.core.frame.DataFrame'>\n",
      "RangeIndex: 881 entries, 0 to 880\n",
      "Data columns (total 3 columns):\n",
      " #   Column  Non-Null Count  Dtype   \n",
      "---  ------  --------------  -----   \n",
      " 0   DATE    881 non-null    object  \n",
      " 1   year    881 non-null    category\n",
      " 2   TMAX    881 non-null    int64   \n",
      "dtypes: category(1), int64(1), object(1)\n",
      "memory usage: 15.2+ KB\n"
     ]
    }
   ],
   "source": [
    "df_pd.info()"
   ]
  },
  {
   "cell_type": "code",
   "execution_count": null,
   "id": "55c2869e-3679-466c-986a-1b7e22170675",
   "metadata": {},
   "outputs": [],
   "source": []
  }
 ],
 "metadata": {
  "kernelspec": {
   "display_name": "Python [conda env:ch2]",
   "language": "python",
   "name": "conda-env-ch2-py"
  },
  "language_info": {
   "codemirror_mode": {
    "name": "ipython",
    "version": 3
   },
   "file_extension": ".py",
   "mimetype": "text/x-python",
   "name": "python",
   "nbconvert_exporter": "python",
   "pygments_lexer": "ipython3",
   "version": "3.12.8"
  }
 },
 "nbformat": 4,
 "nbformat_minor": 5
}
